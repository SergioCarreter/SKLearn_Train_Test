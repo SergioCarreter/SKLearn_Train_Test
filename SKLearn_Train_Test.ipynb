{
 "cells": [
  {
   "cell_type": "markdown",
   "id": "bc562556",
   "metadata": {},
   "source": [
    "# M3T01 Ejercicios de Training i Test Sets\n",
    "-----------------------------"
   ]
  },
  {
   "cell_type": "markdown",
   "id": "c408d1d3",
   "metadata": {},
   "source": [
    "Importamos las librerias necesarias"
   ]
  },
  {
   "cell_type": "code",
   "execution_count": 1,
   "id": "4b7ca3b2",
   "metadata": {},
   "outputs": [],
   "source": [
    "import pandas as pd\n",
    "import numpy as np\n",
    "\n",
    "from sklearn.model_selection import train_test_split\n",
    "from sklearn import preprocessing\n",
    "\n",
    "import matplotlib.pyplot as plt\n",
    "import seaborn as sns"
   ]
  },
  {
   "cell_type": "markdown",
   "id": "c5620e99",
   "metadata": {},
   "source": [
    "Guardamos los datos del csv en el dataframe: **flights_data**"
   ]
  },
  {
   "cell_type": "code",
   "execution_count": 2,
   "id": "7379dfc9",
   "metadata": {},
   "outputs": [
    {
     "name": "stdout",
     "output_type": "stream",
     "text": [
      "<class 'pandas.core.frame.DataFrame'>\n",
      "RangeIndex: 1936758 entries, 0 to 1936757\n",
      "Data columns (total 30 columns):\n",
      " #   Column             Dtype  \n",
      "---  ------             -----  \n",
      " 0   Unnamed: 0         int64  \n",
      " 1   Year               int64  \n",
      " 2   Month              int64  \n",
      " 3   DayofMonth         int64  \n",
      " 4   DayOfWeek          int64  \n",
      " 5   DepTime            float64\n",
      " 6   CRSDepTime         int64  \n",
      " 7   ArrTime            float64\n",
      " 8   CRSArrTime         int64  \n",
      " 9   UniqueCarrier      object \n",
      " 10  FlightNum          int64  \n",
      " 11  TailNum            object \n",
      " 12  ActualElapsedTime  float64\n",
      " 13  CRSElapsedTime     float64\n",
      " 14  AirTime            float64\n",
      " 15  ArrDelay           float64\n",
      " 16  DepDelay           float64\n",
      " 17  Origin             object \n",
      " 18  Dest               object \n",
      " 19  Distance           int64  \n",
      " 20  TaxiIn             float64\n",
      " 21  TaxiOut            float64\n",
      " 22  Cancelled          int64  \n",
      " 23  CancellationCode   object \n",
      " 24  Diverted           int64  \n",
      " 25  CarrierDelay       float64\n",
      " 26  WeatherDelay       float64\n",
      " 27  NASDelay           float64\n",
      " 28  SecurityDelay      float64\n",
      " 29  LateAircraftDelay  float64\n",
      "dtypes: float64(14), int64(11), object(5)\n",
      "memory usage: 443.3+ MB\n"
     ]
    }
   ],
   "source": [
    "data_path_file='DelayedFlights.csv'\n",
    "flights_data=pd.read_csv(data_path_file)\n",
    "flights_data.info()"
   ]
  },
  {
   "cell_type": "code",
   "execution_count": 3,
   "id": "28ac6b0a",
   "metadata": {},
   "outputs": [
    {
     "data": {
      "text/html": [
       "<div>\n",
       "<style scoped>\n",
       "    .dataframe tbody tr th:only-of-type {\n",
       "        vertical-align: middle;\n",
       "    }\n",
       "\n",
       "    .dataframe tbody tr th {\n",
       "        vertical-align: top;\n",
       "    }\n",
       "\n",
       "    .dataframe thead th {\n",
       "        text-align: right;\n",
       "    }\n",
       "</style>\n",
       "<table border=\"1\" class=\"dataframe\">\n",
       "  <thead>\n",
       "    <tr style=\"text-align: right;\">\n",
       "      <th></th>\n",
       "      <th>Unnamed: 0</th>\n",
       "      <th>Year</th>\n",
       "      <th>Month</th>\n",
       "      <th>DayofMonth</th>\n",
       "      <th>DayOfWeek</th>\n",
       "      <th>DepTime</th>\n",
       "      <th>CRSDepTime</th>\n",
       "      <th>ArrTime</th>\n",
       "      <th>CRSArrTime</th>\n",
       "      <th>FlightNum</th>\n",
       "      <th>...</th>\n",
       "      <th>Distance</th>\n",
       "      <th>TaxiIn</th>\n",
       "      <th>TaxiOut</th>\n",
       "      <th>Cancelled</th>\n",
       "      <th>Diverted</th>\n",
       "      <th>CarrierDelay</th>\n",
       "      <th>WeatherDelay</th>\n",
       "      <th>NASDelay</th>\n",
       "      <th>SecurityDelay</th>\n",
       "      <th>LateAircraftDelay</th>\n",
       "    </tr>\n",
       "  </thead>\n",
       "  <tbody>\n",
       "    <tr>\n",
       "      <th>count</th>\n",
       "      <td>1936758.0</td>\n",
       "      <td>1936758.0</td>\n",
       "      <td>1936758.0</td>\n",
       "      <td>1936758.0</td>\n",
       "      <td>1936758.0</td>\n",
       "      <td>1936758.0</td>\n",
       "      <td>1936758.0</td>\n",
       "      <td>1929648.0</td>\n",
       "      <td>1936758.0</td>\n",
       "      <td>1936758.0</td>\n",
       "      <td>...</td>\n",
       "      <td>1936758.0</td>\n",
       "      <td>1929648.0</td>\n",
       "      <td>1936303.0</td>\n",
       "      <td>1936758.0</td>\n",
       "      <td>1936758.0</td>\n",
       "      <td>1247488.0</td>\n",
       "      <td>1247488.0</td>\n",
       "      <td>1247488.0</td>\n",
       "      <td>1247488.0</td>\n",
       "      <td>1247488.0</td>\n",
       "    </tr>\n",
       "    <tr>\n",
       "      <th>mean</th>\n",
       "      <td>3341651.2</td>\n",
       "      <td>2008.0</td>\n",
       "      <td>6.1</td>\n",
       "      <td>15.8</td>\n",
       "      <td>4.0</td>\n",
       "      <td>1518.5</td>\n",
       "      <td>1467.5</td>\n",
       "      <td>1610.1</td>\n",
       "      <td>1634.2</td>\n",
       "      <td>2184.3</td>\n",
       "      <td>...</td>\n",
       "      <td>765.7</td>\n",
       "      <td>6.8</td>\n",
       "      <td>18.2</td>\n",
       "      <td>0.0</td>\n",
       "      <td>0.0</td>\n",
       "      <td>19.2</td>\n",
       "      <td>3.7</td>\n",
       "      <td>15.0</td>\n",
       "      <td>0.1</td>\n",
       "      <td>25.3</td>\n",
       "    </tr>\n",
       "    <tr>\n",
       "      <th>std</th>\n",
       "      <td>2066065.0</td>\n",
       "      <td>0.0</td>\n",
       "      <td>3.5</td>\n",
       "      <td>8.8</td>\n",
       "      <td>2.0</td>\n",
       "      <td>450.5</td>\n",
       "      <td>424.8</td>\n",
       "      <td>548.2</td>\n",
       "      <td>464.6</td>\n",
       "      <td>1944.7</td>\n",
       "      <td>...</td>\n",
       "      <td>574.5</td>\n",
       "      <td>5.3</td>\n",
       "      <td>14.3</td>\n",
       "      <td>0.0</td>\n",
       "      <td>0.1</td>\n",
       "      <td>43.5</td>\n",
       "      <td>21.5</td>\n",
       "      <td>33.8</td>\n",
       "      <td>2.0</td>\n",
       "      <td>42.1</td>\n",
       "    </tr>\n",
       "    <tr>\n",
       "      <th>min</th>\n",
       "      <td>0.0</td>\n",
       "      <td>2008.0</td>\n",
       "      <td>1.0</td>\n",
       "      <td>1.0</td>\n",
       "      <td>1.0</td>\n",
       "      <td>1.0</td>\n",
       "      <td>0.0</td>\n",
       "      <td>1.0</td>\n",
       "      <td>0.0</td>\n",
       "      <td>1.0</td>\n",
       "      <td>...</td>\n",
       "      <td>11.0</td>\n",
       "      <td>0.0</td>\n",
       "      <td>0.0</td>\n",
       "      <td>0.0</td>\n",
       "      <td>0.0</td>\n",
       "      <td>0.0</td>\n",
       "      <td>0.0</td>\n",
       "      <td>0.0</td>\n",
       "      <td>0.0</td>\n",
       "      <td>0.0</td>\n",
       "    </tr>\n",
       "    <tr>\n",
       "      <th>25%</th>\n",
       "      <td>1517452.5</td>\n",
       "      <td>2008.0</td>\n",
       "      <td>3.0</td>\n",
       "      <td>8.0</td>\n",
       "      <td>2.0</td>\n",
       "      <td>1203.0</td>\n",
       "      <td>1135.0</td>\n",
       "      <td>1316.0</td>\n",
       "      <td>1325.0</td>\n",
       "      <td>610.0</td>\n",
       "      <td>...</td>\n",
       "      <td>338.0</td>\n",
       "      <td>4.0</td>\n",
       "      <td>10.0</td>\n",
       "      <td>0.0</td>\n",
       "      <td>0.0</td>\n",
       "      <td>0.0</td>\n",
       "      <td>0.0</td>\n",
       "      <td>0.0</td>\n",
       "      <td>0.0</td>\n",
       "      <td>0.0</td>\n",
       "    </tr>\n",
       "    <tr>\n",
       "      <th>50%</th>\n",
       "      <td>3242558.0</td>\n",
       "      <td>2008.0</td>\n",
       "      <td>6.0</td>\n",
       "      <td>16.0</td>\n",
       "      <td>4.0</td>\n",
       "      <td>1545.0</td>\n",
       "      <td>1510.0</td>\n",
       "      <td>1715.0</td>\n",
       "      <td>1705.0</td>\n",
       "      <td>1543.0</td>\n",
       "      <td>...</td>\n",
       "      <td>606.0</td>\n",
       "      <td>6.0</td>\n",
       "      <td>14.0</td>\n",
       "      <td>0.0</td>\n",
       "      <td>0.0</td>\n",
       "      <td>2.0</td>\n",
       "      <td>0.0</td>\n",
       "      <td>2.0</td>\n",
       "      <td>0.0</td>\n",
       "      <td>8.0</td>\n",
       "    </tr>\n",
       "    <tr>\n",
       "      <th>75%</th>\n",
       "      <td>4972466.8</td>\n",
       "      <td>2008.0</td>\n",
       "      <td>9.0</td>\n",
       "      <td>23.0</td>\n",
       "      <td>6.0</td>\n",
       "      <td>1900.0</td>\n",
       "      <td>1815.0</td>\n",
       "      <td>2030.0</td>\n",
       "      <td>2014.0</td>\n",
       "      <td>3422.0</td>\n",
       "      <td>...</td>\n",
       "      <td>998.0</td>\n",
       "      <td>8.0</td>\n",
       "      <td>21.0</td>\n",
       "      <td>0.0</td>\n",
       "      <td>0.0</td>\n",
       "      <td>21.0</td>\n",
       "      <td>0.0</td>\n",
       "      <td>15.0</td>\n",
       "      <td>0.0</td>\n",
       "      <td>33.0</td>\n",
       "    </tr>\n",
       "    <tr>\n",
       "      <th>max</th>\n",
       "      <td>7009727.0</td>\n",
       "      <td>2008.0</td>\n",
       "      <td>12.0</td>\n",
       "      <td>31.0</td>\n",
       "      <td>7.0</td>\n",
       "      <td>2400.0</td>\n",
       "      <td>2359.0</td>\n",
       "      <td>2400.0</td>\n",
       "      <td>2400.0</td>\n",
       "      <td>9742.0</td>\n",
       "      <td>...</td>\n",
       "      <td>4962.0</td>\n",
       "      <td>240.0</td>\n",
       "      <td>422.0</td>\n",
       "      <td>1.0</td>\n",
       "      <td>1.0</td>\n",
       "      <td>2436.0</td>\n",
       "      <td>1352.0</td>\n",
       "      <td>1357.0</td>\n",
       "      <td>392.0</td>\n",
       "      <td>1316.0</td>\n",
       "    </tr>\n",
       "  </tbody>\n",
       "</table>\n",
       "<p>8 rows × 25 columns</p>\n",
       "</div>"
      ],
      "text/plain": [
       "       Unnamed: 0       Year      Month  DayofMonth  DayOfWeek    DepTime  \\\n",
       "count   1936758.0  1936758.0  1936758.0   1936758.0  1936758.0  1936758.0   \n",
       "mean    3341651.2     2008.0        6.1        15.8        4.0     1518.5   \n",
       "std     2066065.0        0.0        3.5         8.8        2.0      450.5   \n",
       "min           0.0     2008.0        1.0         1.0        1.0        1.0   \n",
       "25%     1517452.5     2008.0        3.0         8.0        2.0     1203.0   \n",
       "50%     3242558.0     2008.0        6.0        16.0        4.0     1545.0   \n",
       "75%     4972466.8     2008.0        9.0        23.0        6.0     1900.0   \n",
       "max     7009727.0     2008.0       12.0        31.0        7.0     2400.0   \n",
       "\n",
       "       CRSDepTime    ArrTime  CRSArrTime  FlightNum  ...   Distance  \\\n",
       "count   1936758.0  1929648.0   1936758.0  1936758.0  ...  1936758.0   \n",
       "mean       1467.5     1610.1      1634.2     2184.3  ...      765.7   \n",
       "std         424.8      548.2       464.6     1944.7  ...      574.5   \n",
       "min           0.0        1.0         0.0        1.0  ...       11.0   \n",
       "25%        1135.0     1316.0      1325.0      610.0  ...      338.0   \n",
       "50%        1510.0     1715.0      1705.0     1543.0  ...      606.0   \n",
       "75%        1815.0     2030.0      2014.0     3422.0  ...      998.0   \n",
       "max        2359.0     2400.0      2400.0     9742.0  ...     4962.0   \n",
       "\n",
       "          TaxiIn    TaxiOut  Cancelled   Diverted  CarrierDelay  WeatherDelay  \\\n",
       "count  1929648.0  1936303.0  1936758.0  1936758.0     1247488.0     1247488.0   \n",
       "mean         6.8       18.2        0.0        0.0          19.2           3.7   \n",
       "std          5.3       14.3        0.0        0.1          43.5          21.5   \n",
       "min          0.0        0.0        0.0        0.0           0.0           0.0   \n",
       "25%          4.0       10.0        0.0        0.0           0.0           0.0   \n",
       "50%          6.0       14.0        0.0        0.0           2.0           0.0   \n",
       "75%          8.0       21.0        0.0        0.0          21.0           0.0   \n",
       "max        240.0      422.0        1.0        1.0        2436.0        1352.0   \n",
       "\n",
       "        NASDelay  SecurityDelay  LateAircraftDelay  \n",
       "count  1247488.0      1247488.0          1247488.0  \n",
       "mean        15.0            0.1               25.3  \n",
       "std         33.8            2.0               42.1  \n",
       "min          0.0            0.0                0.0  \n",
       "25%          0.0            0.0                0.0  \n",
       "50%          2.0            0.0                8.0  \n",
       "75%         15.0            0.0               33.0  \n",
       "max       1357.0          392.0             1316.0  \n",
       "\n",
       "[8 rows x 25 columns]"
      ]
     },
     "execution_count": 3,
     "metadata": {},
     "output_type": "execute_result"
    }
   ],
   "source": [
    "flights_data.describe().round(1)"
   ]
  },
  {
   "cell_type": "code",
   "execution_count": 4,
   "id": "a7966e7c",
   "metadata": {},
   "outputs": [
    {
     "data": {
      "text/html": [
       "<div>\n",
       "<style scoped>\n",
       "    .dataframe tbody tr th:only-of-type {\n",
       "        vertical-align: middle;\n",
       "    }\n",
       "\n",
       "    .dataframe tbody tr th {\n",
       "        vertical-align: top;\n",
       "    }\n",
       "\n",
       "    .dataframe thead th {\n",
       "        text-align: right;\n",
       "    }\n",
       "</style>\n",
       "<table border=\"1\" class=\"dataframe\">\n",
       "  <thead>\n",
       "    <tr style=\"text-align: right;\">\n",
       "      <th></th>\n",
       "      <th>Unnamed: 0</th>\n",
       "      <th>Year</th>\n",
       "      <th>Month</th>\n",
       "      <th>DayofMonth</th>\n",
       "      <th>DayOfWeek</th>\n",
       "      <th>DepTime</th>\n",
       "      <th>CRSDepTime</th>\n",
       "      <th>ArrTime</th>\n",
       "      <th>CRSArrTime</th>\n",
       "      <th>UniqueCarrier</th>\n",
       "      <th>...</th>\n",
       "      <th>TaxiIn</th>\n",
       "      <th>TaxiOut</th>\n",
       "      <th>Cancelled</th>\n",
       "      <th>CancellationCode</th>\n",
       "      <th>Diverted</th>\n",
       "      <th>CarrierDelay</th>\n",
       "      <th>WeatherDelay</th>\n",
       "      <th>NASDelay</th>\n",
       "      <th>SecurityDelay</th>\n",
       "      <th>LateAircraftDelay</th>\n",
       "    </tr>\n",
       "  </thead>\n",
       "  <tbody>\n",
       "    <tr>\n",
       "      <th>0</th>\n",
       "      <td>0</td>\n",
       "      <td>2008</td>\n",
       "      <td>1</td>\n",
       "      <td>3</td>\n",
       "      <td>4</td>\n",
       "      <td>2003.0</td>\n",
       "      <td>1955</td>\n",
       "      <td>2211.0</td>\n",
       "      <td>2225</td>\n",
       "      <td>WN</td>\n",
       "      <td>...</td>\n",
       "      <td>4.0</td>\n",
       "      <td>8.0</td>\n",
       "      <td>0</td>\n",
       "      <td>N</td>\n",
       "      <td>0</td>\n",
       "      <td>NaN</td>\n",
       "      <td>NaN</td>\n",
       "      <td>NaN</td>\n",
       "      <td>NaN</td>\n",
       "      <td>NaN</td>\n",
       "    </tr>\n",
       "    <tr>\n",
       "      <th>1</th>\n",
       "      <td>1</td>\n",
       "      <td>2008</td>\n",
       "      <td>1</td>\n",
       "      <td>3</td>\n",
       "      <td>4</td>\n",
       "      <td>754.0</td>\n",
       "      <td>735</td>\n",
       "      <td>1002.0</td>\n",
       "      <td>1000</td>\n",
       "      <td>WN</td>\n",
       "      <td>...</td>\n",
       "      <td>5.0</td>\n",
       "      <td>10.0</td>\n",
       "      <td>0</td>\n",
       "      <td>N</td>\n",
       "      <td>0</td>\n",
       "      <td>NaN</td>\n",
       "      <td>NaN</td>\n",
       "      <td>NaN</td>\n",
       "      <td>NaN</td>\n",
       "      <td>NaN</td>\n",
       "    </tr>\n",
       "    <tr>\n",
       "      <th>2</th>\n",
       "      <td>2</td>\n",
       "      <td>2008</td>\n",
       "      <td>1</td>\n",
       "      <td>3</td>\n",
       "      <td>4</td>\n",
       "      <td>628.0</td>\n",
       "      <td>620</td>\n",
       "      <td>804.0</td>\n",
       "      <td>750</td>\n",
       "      <td>WN</td>\n",
       "      <td>...</td>\n",
       "      <td>3.0</td>\n",
       "      <td>17.0</td>\n",
       "      <td>0</td>\n",
       "      <td>N</td>\n",
       "      <td>0</td>\n",
       "      <td>NaN</td>\n",
       "      <td>NaN</td>\n",
       "      <td>NaN</td>\n",
       "      <td>NaN</td>\n",
       "      <td>NaN</td>\n",
       "    </tr>\n",
       "    <tr>\n",
       "      <th>3</th>\n",
       "      <td>4</td>\n",
       "      <td>2008</td>\n",
       "      <td>1</td>\n",
       "      <td>3</td>\n",
       "      <td>4</td>\n",
       "      <td>1829.0</td>\n",
       "      <td>1755</td>\n",
       "      <td>1959.0</td>\n",
       "      <td>1925</td>\n",
       "      <td>WN</td>\n",
       "      <td>...</td>\n",
       "      <td>3.0</td>\n",
       "      <td>10.0</td>\n",
       "      <td>0</td>\n",
       "      <td>N</td>\n",
       "      <td>0</td>\n",
       "      <td>2.0</td>\n",
       "      <td>0.0</td>\n",
       "      <td>0.0</td>\n",
       "      <td>0.0</td>\n",
       "      <td>32.0</td>\n",
       "    </tr>\n",
       "    <tr>\n",
       "      <th>4</th>\n",
       "      <td>5</td>\n",
       "      <td>2008</td>\n",
       "      <td>1</td>\n",
       "      <td>3</td>\n",
       "      <td>4</td>\n",
       "      <td>1940.0</td>\n",
       "      <td>1915</td>\n",
       "      <td>2121.0</td>\n",
       "      <td>2110</td>\n",
       "      <td>WN</td>\n",
       "      <td>...</td>\n",
       "      <td>4.0</td>\n",
       "      <td>10.0</td>\n",
       "      <td>0</td>\n",
       "      <td>N</td>\n",
       "      <td>0</td>\n",
       "      <td>NaN</td>\n",
       "      <td>NaN</td>\n",
       "      <td>NaN</td>\n",
       "      <td>NaN</td>\n",
       "      <td>NaN</td>\n",
       "    </tr>\n",
       "  </tbody>\n",
       "</table>\n",
       "<p>5 rows × 30 columns</p>\n",
       "</div>"
      ],
      "text/plain": [
       "   Unnamed: 0  Year  Month  DayofMonth  DayOfWeek  DepTime  CRSDepTime  \\\n",
       "0           0  2008      1           3          4   2003.0        1955   \n",
       "1           1  2008      1           3          4    754.0         735   \n",
       "2           2  2008      1           3          4    628.0         620   \n",
       "3           4  2008      1           3          4   1829.0        1755   \n",
       "4           5  2008      1           3          4   1940.0        1915   \n",
       "\n",
       "   ArrTime  CRSArrTime UniqueCarrier  ...  TaxiIn TaxiOut  Cancelled  \\\n",
       "0   2211.0        2225            WN  ...     4.0     8.0          0   \n",
       "1   1002.0        1000            WN  ...     5.0    10.0          0   \n",
       "2    804.0         750            WN  ...     3.0    17.0          0   \n",
       "3   1959.0        1925            WN  ...     3.0    10.0          0   \n",
       "4   2121.0        2110            WN  ...     4.0    10.0          0   \n",
       "\n",
       "   CancellationCode  Diverted  CarrierDelay  WeatherDelay NASDelay  \\\n",
       "0                 N         0           NaN           NaN      NaN   \n",
       "1                 N         0           NaN           NaN      NaN   \n",
       "2                 N         0           NaN           NaN      NaN   \n",
       "3                 N         0           2.0           0.0      0.0   \n",
       "4                 N         0           NaN           NaN      NaN   \n",
       "\n",
       "  SecurityDelay  LateAircraftDelay  \n",
       "0           NaN                NaN  \n",
       "1           NaN                NaN  \n",
       "2           NaN                NaN  \n",
       "3           0.0               32.0  \n",
       "4           NaN                NaN  \n",
       "\n",
       "[5 rows x 30 columns]"
      ]
     },
     "execution_count": 4,
     "metadata": {},
     "output_type": "execute_result"
    }
   ],
   "source": [
    "flights_data.head(5)"
   ]
  },
  {
   "cell_type": "code",
   "execution_count": 5,
   "id": "11a52a80",
   "metadata": {},
   "outputs": [
    {
     "data": {
      "text/plain": [
       "Unnamed: 0                0\n",
       "Year                      0\n",
       "Month                     0\n",
       "DayofMonth                0\n",
       "DayOfWeek                 0\n",
       "DepTime                   0\n",
       "CRSDepTime                0\n",
       "ArrTime                7110\n",
       "CRSArrTime                0\n",
       "UniqueCarrier             0\n",
       "FlightNum                 0\n",
       "TailNum                   5\n",
       "ActualElapsedTime      8387\n",
       "CRSElapsedTime          198\n",
       "AirTime                8387\n",
       "ArrDelay               8387\n",
       "DepDelay                  0\n",
       "Origin                    0\n",
       "Dest                      0\n",
       "Distance                  0\n",
       "TaxiIn                 7110\n",
       "TaxiOut                 455\n",
       "Cancelled                 0\n",
       "CancellationCode          0\n",
       "Diverted                  0\n",
       "CarrierDelay         689270\n",
       "WeatherDelay         689270\n",
       "NASDelay             689270\n",
       "SecurityDelay        689270\n",
       "LateAircraftDelay    689270\n",
       "dtype: int64"
      ]
     },
     "execution_count": 5,
     "metadata": {},
     "output_type": "execute_result"
    }
   ],
   "source": [
    "flights_data.isnull().sum()"
   ]
  },
  {
   "cell_type": "code",
   "execution_count": 6,
   "id": "a5c284d0",
   "metadata": {},
   "outputs": [
    {
     "data": {
      "text/plain": [
       "(1936758, 30)"
      ]
     },
     "execution_count": 6,
     "metadata": {},
     "output_type": "execute_result"
    }
   ],
   "source": [
    "flights_data.shape"
   ]
  },
  {
   "cell_type": "code",
   "execution_count": 7,
   "id": "c46e0c46",
   "metadata": {},
   "outputs": [
    {
     "data": {
      "text/plain": [
       "Index(['Unnamed: 0', 'Year', 'Month', 'DayofMonth', 'DayOfWeek', 'DepTime',\n",
       "       'CRSDepTime', 'ArrTime', 'CRSArrTime', 'UniqueCarrier', 'FlightNum',\n",
       "       'TailNum', 'ActualElapsedTime', 'CRSElapsedTime', 'AirTime', 'ArrDelay',\n",
       "       'DepDelay', 'Origin', 'Dest', 'Distance', 'TaxiIn', 'TaxiOut',\n",
       "       'Cancelled', 'CancellationCode', 'Diverted', 'CarrierDelay',\n",
       "       'WeatherDelay', 'NASDelay', 'SecurityDelay', 'LateAircraftDelay'],\n",
       "      dtype='object')"
      ]
     },
     "execution_count": 7,
     "metadata": {},
     "output_type": "execute_result"
    }
   ],
   "source": [
    "flights_data.columns"
   ]
  },
  {
   "cell_type": "markdown",
   "id": "a6464489",
   "metadata": {},
   "source": [
    "Centraremos el analisis en las caracteristicas de interés: **features** y lo guardaremos en el dataframe **X**"
   ]
  },
  {
   "cell_type": "code",
   "execution_count": 8,
   "id": "6965af2a",
   "metadata": {},
   "outputs": [],
   "source": [
    "features=[ 'DayOfWeek', 'DepTime', 'CRSDepTime', 'ArrTime', 'CRSArrTime', 'ActualElapsedTime',\n",
    "          'CRSElapsedTime', 'AirTime', 'ArrDelay','DepDelay', 'Distance', 'Cancelled', 'Diverted']"
   ]
  },
  {
   "cell_type": "code",
   "execution_count": 9,
   "id": "9ff77887",
   "metadata": {},
   "outputs": [],
   "source": [
    "X= flights_data[features]"
   ]
  },
  {
   "cell_type": "code",
   "execution_count": 10,
   "id": "2997732c",
   "metadata": {},
   "outputs": [
    {
     "data": {
      "text/plain": [
       "(1936758, 13)"
      ]
     },
     "execution_count": 10,
     "metadata": {},
     "output_type": "execute_result"
    }
   ],
   "source": [
    "X.shape"
   ]
  },
  {
   "cell_type": "code",
   "execution_count": 11,
   "id": "a04ca710",
   "metadata": {},
   "outputs": [
    {
     "data": {
      "text/html": [
       "<div>\n",
       "<style scoped>\n",
       "    .dataframe tbody tr th:only-of-type {\n",
       "        vertical-align: middle;\n",
       "    }\n",
       "\n",
       "    .dataframe tbody tr th {\n",
       "        vertical-align: top;\n",
       "    }\n",
       "\n",
       "    .dataframe thead th {\n",
       "        text-align: right;\n",
       "    }\n",
       "</style>\n",
       "<table border=\"1\" class=\"dataframe\">\n",
       "  <thead>\n",
       "    <tr style=\"text-align: right;\">\n",
       "      <th></th>\n",
       "      <th>DayOfWeek</th>\n",
       "      <th>DepTime</th>\n",
       "      <th>CRSDepTime</th>\n",
       "      <th>ArrTime</th>\n",
       "      <th>CRSArrTime</th>\n",
       "      <th>ActualElapsedTime</th>\n",
       "      <th>CRSElapsedTime</th>\n",
       "      <th>AirTime</th>\n",
       "      <th>ArrDelay</th>\n",
       "      <th>DepDelay</th>\n",
       "      <th>Distance</th>\n",
       "      <th>Cancelled</th>\n",
       "      <th>Diverted</th>\n",
       "    </tr>\n",
       "  </thead>\n",
       "  <tbody>\n",
       "    <tr>\n",
       "      <th>count</th>\n",
       "      <td>1936758.0</td>\n",
       "      <td>1936758.0</td>\n",
       "      <td>1936758.0</td>\n",
       "      <td>1929648.0</td>\n",
       "      <td>1936758.0</td>\n",
       "      <td>1928371.0</td>\n",
       "      <td>1936560.0</td>\n",
       "      <td>1928371.0</td>\n",
       "      <td>1928371.0</td>\n",
       "      <td>1936758.0</td>\n",
       "      <td>1936758.0</td>\n",
       "      <td>1936758.0</td>\n",
       "      <td>1936758.0</td>\n",
       "    </tr>\n",
       "    <tr>\n",
       "      <th>mean</th>\n",
       "      <td>4.0</td>\n",
       "      <td>1518.5</td>\n",
       "      <td>1467.5</td>\n",
       "      <td>1610.1</td>\n",
       "      <td>1634.2</td>\n",
       "      <td>133.3</td>\n",
       "      <td>134.3</td>\n",
       "      <td>108.3</td>\n",
       "      <td>42.2</td>\n",
       "      <td>43.2</td>\n",
       "      <td>765.7</td>\n",
       "      <td>0.0</td>\n",
       "      <td>0.0</td>\n",
       "    </tr>\n",
       "    <tr>\n",
       "      <th>std</th>\n",
       "      <td>2.0</td>\n",
       "      <td>450.5</td>\n",
       "      <td>424.8</td>\n",
       "      <td>548.2</td>\n",
       "      <td>464.6</td>\n",
       "      <td>72.1</td>\n",
       "      <td>71.3</td>\n",
       "      <td>68.6</td>\n",
       "      <td>56.8</td>\n",
       "      <td>53.4</td>\n",
       "      <td>574.5</td>\n",
       "      <td>0.0</td>\n",
       "      <td>0.1</td>\n",
       "    </tr>\n",
       "    <tr>\n",
       "      <th>min</th>\n",
       "      <td>1.0</td>\n",
       "      <td>1.0</td>\n",
       "      <td>0.0</td>\n",
       "      <td>1.0</td>\n",
       "      <td>0.0</td>\n",
       "      <td>14.0</td>\n",
       "      <td>-25.0</td>\n",
       "      <td>0.0</td>\n",
       "      <td>-109.0</td>\n",
       "      <td>6.0</td>\n",
       "      <td>11.0</td>\n",
       "      <td>0.0</td>\n",
       "      <td>0.0</td>\n",
       "    </tr>\n",
       "    <tr>\n",
       "      <th>25%</th>\n",
       "      <td>2.0</td>\n",
       "      <td>1203.0</td>\n",
       "      <td>1135.0</td>\n",
       "      <td>1316.0</td>\n",
       "      <td>1325.0</td>\n",
       "      <td>80.0</td>\n",
       "      <td>82.0</td>\n",
       "      <td>58.0</td>\n",
       "      <td>9.0</td>\n",
       "      <td>12.0</td>\n",
       "      <td>338.0</td>\n",
       "      <td>0.0</td>\n",
       "      <td>0.0</td>\n",
       "    </tr>\n",
       "    <tr>\n",
       "      <th>50%</th>\n",
       "      <td>4.0</td>\n",
       "      <td>1545.0</td>\n",
       "      <td>1510.0</td>\n",
       "      <td>1715.0</td>\n",
       "      <td>1705.0</td>\n",
       "      <td>116.0</td>\n",
       "      <td>116.0</td>\n",
       "      <td>90.0</td>\n",
       "      <td>24.0</td>\n",
       "      <td>24.0</td>\n",
       "      <td>606.0</td>\n",
       "      <td>0.0</td>\n",
       "      <td>0.0</td>\n",
       "    </tr>\n",
       "    <tr>\n",
       "      <th>75%</th>\n",
       "      <td>6.0</td>\n",
       "      <td>1900.0</td>\n",
       "      <td>1815.0</td>\n",
       "      <td>2030.0</td>\n",
       "      <td>2014.0</td>\n",
       "      <td>165.0</td>\n",
       "      <td>165.0</td>\n",
       "      <td>137.0</td>\n",
       "      <td>56.0</td>\n",
       "      <td>53.0</td>\n",
       "      <td>998.0</td>\n",
       "      <td>0.0</td>\n",
       "      <td>0.0</td>\n",
       "    </tr>\n",
       "    <tr>\n",
       "      <th>max</th>\n",
       "      <td>7.0</td>\n",
       "      <td>2400.0</td>\n",
       "      <td>2359.0</td>\n",
       "      <td>2400.0</td>\n",
       "      <td>2400.0</td>\n",
       "      <td>1114.0</td>\n",
       "      <td>660.0</td>\n",
       "      <td>1091.0</td>\n",
       "      <td>2461.0</td>\n",
       "      <td>2467.0</td>\n",
       "      <td>4962.0</td>\n",
       "      <td>1.0</td>\n",
       "      <td>1.0</td>\n",
       "    </tr>\n",
       "  </tbody>\n",
       "</table>\n",
       "</div>"
      ],
      "text/plain": [
       "       DayOfWeek    DepTime  CRSDepTime    ArrTime  CRSArrTime  \\\n",
       "count  1936758.0  1936758.0   1936758.0  1929648.0   1936758.0   \n",
       "mean         4.0     1518.5      1467.5     1610.1      1634.2   \n",
       "std          2.0      450.5       424.8      548.2       464.6   \n",
       "min          1.0        1.0         0.0        1.0         0.0   \n",
       "25%          2.0     1203.0      1135.0     1316.0      1325.0   \n",
       "50%          4.0     1545.0      1510.0     1715.0      1705.0   \n",
       "75%          6.0     1900.0      1815.0     2030.0      2014.0   \n",
       "max          7.0     2400.0      2359.0     2400.0      2400.0   \n",
       "\n",
       "       ActualElapsedTime  CRSElapsedTime    AirTime   ArrDelay   DepDelay  \\\n",
       "count          1928371.0       1936560.0  1928371.0  1928371.0  1936758.0   \n",
       "mean               133.3           134.3      108.3       42.2       43.2   \n",
       "std                 72.1            71.3       68.6       56.8       53.4   \n",
       "min                 14.0           -25.0        0.0     -109.0        6.0   \n",
       "25%                 80.0            82.0       58.0        9.0       12.0   \n",
       "50%                116.0           116.0       90.0       24.0       24.0   \n",
       "75%                165.0           165.0      137.0       56.0       53.0   \n",
       "max               1114.0           660.0     1091.0     2461.0     2467.0   \n",
       "\n",
       "        Distance  Cancelled   Diverted  \n",
       "count  1936758.0  1936758.0  1936758.0  \n",
       "mean       765.7        0.0        0.0  \n",
       "std        574.5        0.0        0.1  \n",
       "min         11.0        0.0        0.0  \n",
       "25%        338.0        0.0        0.0  \n",
       "50%        606.0        0.0        0.0  \n",
       "75%        998.0        0.0        0.0  \n",
       "max       4962.0        1.0        1.0  "
      ]
     },
     "execution_count": 11,
     "metadata": {},
     "output_type": "execute_result"
    }
   ],
   "source": [
    "X.describe().round(1)"
   ]
  },
  {
   "cell_type": "code",
   "execution_count": 12,
   "id": "f76b7647",
   "metadata": {},
   "outputs": [
    {
     "data": {
      "text/plain": [
       "DayOfWeek               0\n",
       "DepTime                 0\n",
       "CRSDepTime              0\n",
       "ArrTime              7110\n",
       "CRSArrTime              0\n",
       "ActualElapsedTime    8387\n",
       "CRSElapsedTime        198\n",
       "AirTime              8387\n",
       "ArrDelay             8387\n",
       "DepDelay                0\n",
       "Distance                0\n",
       "Cancelled               0\n",
       "Diverted                0\n",
       "dtype: int64"
      ]
     },
     "execution_count": 12,
     "metadata": {},
     "output_type": "execute_result"
    }
   ],
   "source": [
    "X.isnull().sum()"
   ]
  },
  {
   "cell_type": "markdown",
   "id": "4a08d6c5",
   "metadata": {},
   "source": [
    "Supongamos que queremos entrenar un modelo que sea capaz de estimar la caracteristica **'ArrDelay'**. Para ello **'Arrdelay'** no ha de tener faltantes. tratandose de un numero relativamente bajo descartaremos las filas con **'ArrDelay'** faltantes para toda la matriz de caracteristicas **X**"
   ]
  },
  {
   "cell_type": "code",
   "execution_count": 13,
   "id": "a7195d8c",
   "metadata": {},
   "outputs": [
    {
     "name": "stdout",
     "output_type": "stream",
     "text": [
      "Porcentaje de datos descartados: 0.43 %\n"
     ]
    }
   ],
   "source": [
    "print('Porcentaje de datos descartados:', round(X['ArrDelay'].isnull().sum()/X.shape[0]*100,2),'%')"
   ]
  },
  {
   "cell_type": "code",
   "execution_count": 14,
   "id": "3100046c",
   "metadata": {},
   "outputs": [
    {
     "data": {
      "text/plain": [
       "(1936758,)"
      ]
     },
     "execution_count": 14,
     "metadata": {},
     "output_type": "execute_result"
    }
   ],
   "source": [
    "nodelay = ~(X['ArrDelay'].isnull())\n",
    "nodelay.shape"
   ]
  },
  {
   "cell_type": "code",
   "execution_count": 15,
   "id": "7e7b5e43",
   "metadata": {},
   "outputs": [],
   "source": [
    "X= X[nodelay]"
   ]
  },
  {
   "cell_type": "code",
   "execution_count": 16,
   "id": "d9a159db",
   "metadata": {},
   "outputs": [
    {
     "data": {
      "text/plain": [
       "(1928371, 13)"
      ]
     },
     "execution_count": 16,
     "metadata": {},
     "output_type": "execute_result"
    }
   ],
   "source": [
    "X.shape"
   ]
  },
  {
   "cell_type": "markdown",
   "id": "fb48d21f",
   "metadata": {},
   "source": [
    "Guardamos en la variable **y** la caracteristica **'ArrDelay'** y la eliminaremos de la matriz de caracteristicas **X**"
   ]
  },
  {
   "cell_type": "code",
   "execution_count": 17,
   "id": "e5db95f3",
   "metadata": {},
   "outputs": [],
   "source": [
    "y= X.ArrDelay"
   ]
  },
  {
   "cell_type": "code",
   "execution_count": 18,
   "id": "23fc89e9",
   "metadata": {},
   "outputs": [
    {
     "data": {
      "text/plain": [
       "(1928371,)"
      ]
     },
     "execution_count": 18,
     "metadata": {},
     "output_type": "execute_result"
    }
   ],
   "source": [
    "y.shape"
   ]
  },
  {
   "cell_type": "code",
   "execution_count": 19,
   "id": "758e71a6",
   "metadata": {},
   "outputs": [],
   "source": [
    "X.drop( columns='ArrDelay', inplace= True )"
   ]
  },
  {
   "cell_type": "code",
   "execution_count": 20,
   "id": "5b371f8c",
   "metadata": {},
   "outputs": [
    {
     "data": {
      "text/plain": [
       "(1928371, 12)"
      ]
     },
     "execution_count": 20,
     "metadata": {},
     "output_type": "execute_result"
    }
   ],
   "source": [
    "X.shape"
   ]
  },
  {
   "cell_type": "markdown",
   "id": "48722865",
   "metadata": {},
   "source": [
    "Por tanto las caracteristicas de la matrix **X** seran las contenidas en la lista **feat_X**"
   ]
  },
  {
   "cell_type": "code",
   "execution_count": 21,
   "id": "1fae9c73",
   "metadata": {},
   "outputs": [],
   "source": [
    "feat_X=[ 'DayOfWeek', 'DepTime', 'CRSDepTime', 'ArrTime', 'CRSArrTime', 'ActualElapsedTime',\n",
    "          'CRSElapsedTime', 'AirTime','DepDelay', 'Distance', 'Cancelled', 'Diverted']"
   ]
  },
  {
   "cell_type": "markdown",
   "id": "38f27d3c",
   "metadata": {},
   "source": [
    "---------------------------------------------\n",
    "## Ejercicio 1: \n",
    "\n",
    "Divide el csv en train y test split. Estudia los 2 conjuntos a nivel descriptivo.\n",
    "\n",
    "-----------------------------------------------"
   ]
  },
  {
   "cell_type": "code",
   "execution_count": 22,
   "id": "036043a0",
   "metadata": {},
   "outputs": [],
   "source": [
    "# Dividimos los datos en training y test.\n",
    "\n",
    "X_train, X_test, y_train, y_test = train_test_split(X, y, train_size=0.8, test_size=0.2,\n",
    "                                                      random_state=33)"
   ]
  },
  {
   "cell_type": "code",
   "execution_count": 23,
   "id": "14424378",
   "metadata": {},
   "outputs": [
    {
     "name": "stdout",
     "output_type": "stream",
     "text": [
      "(1542696, 12) (1542696,)\n"
     ]
    }
   ],
   "source": [
    "print(X_train.shape, y_train.shape)"
   ]
  },
  {
   "cell_type": "code",
   "execution_count": 24,
   "id": "e9c91704",
   "metadata": {},
   "outputs": [
    {
     "name": "stdout",
     "output_type": "stream",
     "text": [
      "(385675, 12) (385675,)\n"
     ]
    }
   ],
   "source": [
    "print(X_test.shape, y_test.shape)"
   ]
  },
  {
   "cell_type": "markdown",
   "id": "0594d8e7",
   "metadata": {},
   "source": [
    "Definimos las caracteristicas continuas **cont_features**"
   ]
  },
  {
   "cell_type": "code",
   "execution_count": 25,
   "id": "e92ade61",
   "metadata": {},
   "outputs": [],
   "source": [
    "cont_features=[ 'DepTime', 'CRSDepTime', 'ArrTime', 'CRSArrTime', 'ActualElapsedTime',\n",
    "          'CRSElapsedTime', 'AirTime','DepDelay', 'Distance']"
   ]
  },
  {
   "cell_type": "markdown",
   "id": "cf47f25d",
   "metadata": {},
   "source": [
    "Observemos los valores de dichas caracteristicas para los 2 grupos resultantes"
   ]
  },
  {
   "cell_type": "code",
   "execution_count": 26,
   "id": "6c478ef5",
   "metadata": {},
   "outputs": [
    {
     "data": {
      "text/html": [
       "<div>\n",
       "<style scoped>\n",
       "    .dataframe tbody tr th:only-of-type {\n",
       "        vertical-align: middle;\n",
       "    }\n",
       "\n",
       "    .dataframe tbody tr th {\n",
       "        vertical-align: top;\n",
       "    }\n",
       "\n",
       "    .dataframe thead th {\n",
       "        text-align: right;\n",
       "    }\n",
       "</style>\n",
       "<table border=\"1\" class=\"dataframe\">\n",
       "  <thead>\n",
       "    <tr style=\"text-align: right;\">\n",
       "      <th></th>\n",
       "      <th>DepTime</th>\n",
       "      <th>CRSDepTime</th>\n",
       "      <th>ArrTime</th>\n",
       "      <th>CRSArrTime</th>\n",
       "      <th>ActualElapsedTime</th>\n",
       "      <th>CRSElapsedTime</th>\n",
       "      <th>AirTime</th>\n",
       "      <th>DepDelay</th>\n",
       "      <th>Distance</th>\n",
       "    </tr>\n",
       "  </thead>\n",
       "  <tbody>\n",
       "    <tr>\n",
       "      <th>count</th>\n",
       "      <td>1542696.0</td>\n",
       "      <td>1542696.0</td>\n",
       "      <td>1542696.0</td>\n",
       "      <td>1542696.0</td>\n",
       "      <td>1542696.0</td>\n",
       "      <td>1542696.0</td>\n",
       "      <td>1542696.0</td>\n",
       "      <td>1542696.0</td>\n",
       "      <td>1542696.0</td>\n",
       "    </tr>\n",
       "    <tr>\n",
       "      <th>mean</th>\n",
       "      <td>1518.9</td>\n",
       "      <td>1467.9</td>\n",
       "      <td>1610.3</td>\n",
       "      <td>1634.5</td>\n",
       "      <td>133.3</td>\n",
       "      <td>134.2</td>\n",
       "      <td>108.3</td>\n",
       "      <td>43.1</td>\n",
       "      <td>765.0</td>\n",
       "    </tr>\n",
       "    <tr>\n",
       "      <th>std</th>\n",
       "      <td>450.3</td>\n",
       "      <td>424.7</td>\n",
       "      <td>548.1</td>\n",
       "      <td>464.4</td>\n",
       "      <td>72.1</td>\n",
       "      <td>71.2</td>\n",
       "      <td>68.6</td>\n",
       "      <td>53.2</td>\n",
       "      <td>573.8</td>\n",
       "    </tr>\n",
       "    <tr>\n",
       "      <th>min</th>\n",
       "      <td>1.0</td>\n",
       "      <td>0.0</td>\n",
       "      <td>1.0</td>\n",
       "      <td>0.0</td>\n",
       "      <td>14.0</td>\n",
       "      <td>8.0</td>\n",
       "      <td>0.0</td>\n",
       "      <td>6.0</td>\n",
       "      <td>11.0</td>\n",
       "    </tr>\n",
       "    <tr>\n",
       "      <th>25%</th>\n",
       "      <td>1203.0</td>\n",
       "      <td>1135.0</td>\n",
       "      <td>1316.0</td>\n",
       "      <td>1325.0</td>\n",
       "      <td>80.0</td>\n",
       "      <td>82.0</td>\n",
       "      <td>58.0</td>\n",
       "      <td>12.0</td>\n",
       "      <td>338.0</td>\n",
       "    </tr>\n",
       "    <tr>\n",
       "      <th>50%</th>\n",
       "      <td>1545.0</td>\n",
       "      <td>1510.0</td>\n",
       "      <td>1715.0</td>\n",
       "      <td>1706.0</td>\n",
       "      <td>116.0</td>\n",
       "      <td>116.0</td>\n",
       "      <td>90.0</td>\n",
       "      <td>24.0</td>\n",
       "      <td>606.0</td>\n",
       "    </tr>\n",
       "    <tr>\n",
       "      <th>75%</th>\n",
       "      <td>1900.0</td>\n",
       "      <td>1815.0</td>\n",
       "      <td>2030.0</td>\n",
       "      <td>2015.0</td>\n",
       "      <td>165.0</td>\n",
       "      <td>165.0</td>\n",
       "      <td>137.0</td>\n",
       "      <td>53.0</td>\n",
       "      <td>997.0</td>\n",
       "    </tr>\n",
       "    <tr>\n",
       "      <th>max</th>\n",
       "      <td>2400.0</td>\n",
       "      <td>2359.0</td>\n",
       "      <td>2400.0</td>\n",
       "      <td>2359.0</td>\n",
       "      <td>1114.0</td>\n",
       "      <td>660.0</td>\n",
       "      <td>1091.0</td>\n",
       "      <td>2467.0</td>\n",
       "      <td>4962.0</td>\n",
       "    </tr>\n",
       "  </tbody>\n",
       "</table>\n",
       "</div>"
      ],
      "text/plain": [
       "         DepTime  CRSDepTime    ArrTime  CRSArrTime  ActualElapsedTime  \\\n",
       "count  1542696.0   1542696.0  1542696.0   1542696.0          1542696.0   \n",
       "mean      1518.9      1467.9     1610.3      1634.5              133.3   \n",
       "std        450.3       424.7      548.1       464.4               72.1   \n",
       "min          1.0         0.0        1.0         0.0               14.0   \n",
       "25%       1203.0      1135.0     1316.0      1325.0               80.0   \n",
       "50%       1545.0      1510.0     1715.0      1706.0              116.0   \n",
       "75%       1900.0      1815.0     2030.0      2015.0              165.0   \n",
       "max       2400.0      2359.0     2400.0      2359.0             1114.0   \n",
       "\n",
       "       CRSElapsedTime    AirTime   DepDelay   Distance  \n",
       "count       1542696.0  1542696.0  1542696.0  1542696.0  \n",
       "mean            134.2      108.3       43.1      765.0  \n",
       "std              71.2       68.6       53.2      573.8  \n",
       "min               8.0        0.0        6.0       11.0  \n",
       "25%              82.0       58.0       12.0      338.0  \n",
       "50%             116.0       90.0       24.0      606.0  \n",
       "75%             165.0      137.0       53.0      997.0  \n",
       "max             660.0     1091.0     2467.0     4962.0  "
      ]
     },
     "execution_count": 26,
     "metadata": {},
     "output_type": "execute_result"
    }
   ],
   "source": [
    "X_train[cont_features].describe().round(1)"
   ]
  },
  {
   "cell_type": "code",
   "execution_count": 27,
   "id": "4c599cc8",
   "metadata": {},
   "outputs": [
    {
     "data": {
      "text/html": [
       "<div>\n",
       "<style scoped>\n",
       "    .dataframe tbody tr th:only-of-type {\n",
       "        vertical-align: middle;\n",
       "    }\n",
       "\n",
       "    .dataframe tbody tr th {\n",
       "        vertical-align: top;\n",
       "    }\n",
       "\n",
       "    .dataframe thead th {\n",
       "        text-align: right;\n",
       "    }\n",
       "</style>\n",
       "<table border=\"1\" class=\"dataframe\">\n",
       "  <thead>\n",
       "    <tr style=\"text-align: right;\">\n",
       "      <th></th>\n",
       "      <th>DepTime</th>\n",
       "      <th>CRSDepTime</th>\n",
       "      <th>ArrTime</th>\n",
       "      <th>CRSArrTime</th>\n",
       "      <th>ActualElapsedTime</th>\n",
       "      <th>CRSElapsedTime</th>\n",
       "      <th>AirTime</th>\n",
       "      <th>DepDelay</th>\n",
       "      <th>Distance</th>\n",
       "    </tr>\n",
       "  </thead>\n",
       "  <tbody>\n",
       "    <tr>\n",
       "      <th>count</th>\n",
       "      <td>385675.0</td>\n",
       "      <td>385675.0</td>\n",
       "      <td>385675.0</td>\n",
       "      <td>385675.0</td>\n",
       "      <td>385675.0</td>\n",
       "      <td>385675.0</td>\n",
       "      <td>385675.0</td>\n",
       "      <td>385675.0</td>\n",
       "      <td>385675.0</td>\n",
       "    </tr>\n",
       "    <tr>\n",
       "      <th>mean</th>\n",
       "      <td>1517.6</td>\n",
       "      <td>1467.2</td>\n",
       "      <td>1610.0</td>\n",
       "      <td>1632.8</td>\n",
       "      <td>133.3</td>\n",
       "      <td>134.2</td>\n",
       "      <td>108.3</td>\n",
       "      <td>43.1</td>\n",
       "      <td>764.9</td>\n",
       "    </tr>\n",
       "    <tr>\n",
       "      <th>std</th>\n",
       "      <td>450.9</td>\n",
       "      <td>425.0</td>\n",
       "      <td>547.7</td>\n",
       "      <td>465.5</td>\n",
       "      <td>72.1</td>\n",
       "      <td>71.3</td>\n",
       "      <td>68.7</td>\n",
       "      <td>53.4</td>\n",
       "      <td>574.1</td>\n",
       "    </tr>\n",
       "    <tr>\n",
       "      <th>min</th>\n",
       "      <td>1.0</td>\n",
       "      <td>0.0</td>\n",
       "      <td>1.0</td>\n",
       "      <td>0.0</td>\n",
       "      <td>15.0</td>\n",
       "      <td>-21.0</td>\n",
       "      <td>1.0</td>\n",
       "      <td>6.0</td>\n",
       "      <td>24.0</td>\n",
       "    </tr>\n",
       "    <tr>\n",
       "      <th>25%</th>\n",
       "      <td>1202.0</td>\n",
       "      <td>1135.0</td>\n",
       "      <td>1315.0</td>\n",
       "      <td>1325.0</td>\n",
       "      <td>80.0</td>\n",
       "      <td>81.0</td>\n",
       "      <td>58.0</td>\n",
       "      <td>12.0</td>\n",
       "      <td>338.0</td>\n",
       "    </tr>\n",
       "    <tr>\n",
       "      <th>50%</th>\n",
       "      <td>1545.0</td>\n",
       "      <td>1510.0</td>\n",
       "      <td>1715.0</td>\n",
       "      <td>1705.0</td>\n",
       "      <td>116.0</td>\n",
       "      <td>116.0</td>\n",
       "      <td>90.0</td>\n",
       "      <td>24.0</td>\n",
       "      <td>606.0</td>\n",
       "    </tr>\n",
       "    <tr>\n",
       "      <th>75%</th>\n",
       "      <td>1900.0</td>\n",
       "      <td>1815.0</td>\n",
       "      <td>2031.0</td>\n",
       "      <td>2014.0</td>\n",
       "      <td>165.0</td>\n",
       "      <td>165.0</td>\n",
       "      <td>137.0</td>\n",
       "      <td>53.0</td>\n",
       "      <td>997.0</td>\n",
       "    </tr>\n",
       "    <tr>\n",
       "      <th>max</th>\n",
       "      <td>2400.0</td>\n",
       "      <td>2359.0</td>\n",
       "      <td>2400.0</td>\n",
       "      <td>2359.0</td>\n",
       "      <td>790.0</td>\n",
       "      <td>660.0</td>\n",
       "      <td>651.0</td>\n",
       "      <td>1552.0</td>\n",
       "      <td>4962.0</td>\n",
       "    </tr>\n",
       "  </tbody>\n",
       "</table>\n",
       "</div>"
      ],
      "text/plain": [
       "        DepTime  CRSDepTime   ArrTime  CRSArrTime  ActualElapsedTime  \\\n",
       "count  385675.0    385675.0  385675.0    385675.0           385675.0   \n",
       "mean     1517.6      1467.2    1610.0      1632.8              133.3   \n",
       "std       450.9       425.0     547.7       465.5               72.1   \n",
       "min         1.0         0.0       1.0         0.0               15.0   \n",
       "25%      1202.0      1135.0    1315.0      1325.0               80.0   \n",
       "50%      1545.0      1510.0    1715.0      1705.0              116.0   \n",
       "75%      1900.0      1815.0    2031.0      2014.0              165.0   \n",
       "max      2400.0      2359.0    2400.0      2359.0              790.0   \n",
       "\n",
       "       CRSElapsedTime   AirTime  DepDelay  Distance  \n",
       "count        385675.0  385675.0  385675.0  385675.0  \n",
       "mean            134.2     108.3      43.1     764.9  \n",
       "std              71.3      68.7      53.4     574.1  \n",
       "min             -21.0       1.0       6.0      24.0  \n",
       "25%              81.0      58.0      12.0     338.0  \n",
       "50%             116.0      90.0      24.0     606.0  \n",
       "75%             165.0     137.0      53.0     997.0  \n",
       "max             660.0     651.0    1552.0    4962.0  "
      ]
     },
     "execution_count": 27,
     "metadata": {},
     "output_type": "execute_result"
    }
   ],
   "source": [
    "X_test[cont_features].describe().round(1)"
   ]
  },
  {
   "cell_type": "markdown",
   "id": "89a07d8c",
   "metadata": {},
   "source": [
    "Observamos como tanto el valor medio, la desviacion estandar y la mediana son practicamente identicas en ambos conjuntos.\n",
    "Solo se observa alguna diferencia en algun valor minimo de alguna caracteristica; como es el caso de los valores minimos de 'CRSElapsedTime' y 'Distance' y los valores maximos de 'AirTime' y 'DeepDelay'"
   ]
  },
  {
   "cell_type": "markdown",
   "id": "6186b25e",
   "metadata": {},
   "source": [
    "Evaluemos ahora las variables con valores discretos: **disc_features**\n",
    "\n",
    "En realidad corresponden a variables categoricas a las que se ha asignado un valor numerico."
   ]
  },
  {
   "cell_type": "code",
   "execution_count": 28,
   "id": "8537c42f",
   "metadata": {},
   "outputs": [],
   "source": [
    "disc_features= ['DayOfWeek', 'Cancelled', 'Diverted']"
   ]
  },
  {
   "cell_type": "code",
   "execution_count": 29,
   "id": "f7c436cd",
   "metadata": {},
   "outputs": [
    {
     "data": {
      "text/html": [
       "<div>\n",
       "<style scoped>\n",
       "    .dataframe tbody tr th:only-of-type {\n",
       "        vertical-align: middle;\n",
       "    }\n",
       "\n",
       "    .dataframe tbody tr th {\n",
       "        vertical-align: top;\n",
       "    }\n",
       "\n",
       "    .dataframe thead th {\n",
       "        text-align: right;\n",
       "    }\n",
       "</style>\n",
       "<table border=\"1\" class=\"dataframe\">\n",
       "  <thead>\n",
       "    <tr style=\"text-align: right;\">\n",
       "      <th></th>\n",
       "      <th>DayOfWeek</th>\n",
       "      <th>Cancelled</th>\n",
       "      <th>Diverted</th>\n",
       "    </tr>\n",
       "  </thead>\n",
       "  <tbody>\n",
       "    <tr>\n",
       "      <th>count</th>\n",
       "      <td>1542696.0</td>\n",
       "      <td>1542696.0</td>\n",
       "      <td>1542696.0</td>\n",
       "    </tr>\n",
       "    <tr>\n",
       "      <th>mean</th>\n",
       "      <td>4.0</td>\n",
       "      <td>0.0</td>\n",
       "      <td>0.0</td>\n",
       "    </tr>\n",
       "    <tr>\n",
       "      <th>std</th>\n",
       "      <td>2.0</td>\n",
       "      <td>0.0</td>\n",
       "      <td>0.0</td>\n",
       "    </tr>\n",
       "    <tr>\n",
       "      <th>min</th>\n",
       "      <td>1.0</td>\n",
       "      <td>0.0</td>\n",
       "      <td>0.0</td>\n",
       "    </tr>\n",
       "    <tr>\n",
       "      <th>25%</th>\n",
       "      <td>2.0</td>\n",
       "      <td>0.0</td>\n",
       "      <td>0.0</td>\n",
       "    </tr>\n",
       "    <tr>\n",
       "      <th>50%</th>\n",
       "      <td>4.0</td>\n",
       "      <td>0.0</td>\n",
       "      <td>0.0</td>\n",
       "    </tr>\n",
       "    <tr>\n",
       "      <th>75%</th>\n",
       "      <td>6.0</td>\n",
       "      <td>0.0</td>\n",
       "      <td>0.0</td>\n",
       "    </tr>\n",
       "    <tr>\n",
       "      <th>max</th>\n",
       "      <td>7.0</td>\n",
       "      <td>0.0</td>\n",
       "      <td>0.0</td>\n",
       "    </tr>\n",
       "  </tbody>\n",
       "</table>\n",
       "</div>"
      ],
      "text/plain": [
       "       DayOfWeek  Cancelled   Diverted\n",
       "count  1542696.0  1542696.0  1542696.0\n",
       "mean         4.0        0.0        0.0\n",
       "std          2.0        0.0        0.0\n",
       "min          1.0        0.0        0.0\n",
       "25%          2.0        0.0        0.0\n",
       "50%          4.0        0.0        0.0\n",
       "75%          6.0        0.0        0.0\n",
       "max          7.0        0.0        0.0"
      ]
     },
     "execution_count": 29,
     "metadata": {},
     "output_type": "execute_result"
    }
   ],
   "source": [
    "X_train[disc_features].describe().round(1)"
   ]
  },
  {
   "cell_type": "code",
   "execution_count": 30,
   "id": "a3aab7ca",
   "metadata": {},
   "outputs": [
    {
     "data": {
      "text/html": [
       "<div>\n",
       "<style scoped>\n",
       "    .dataframe tbody tr th:only-of-type {\n",
       "        vertical-align: middle;\n",
       "    }\n",
       "\n",
       "    .dataframe tbody tr th {\n",
       "        vertical-align: top;\n",
       "    }\n",
       "\n",
       "    .dataframe thead th {\n",
       "        text-align: right;\n",
       "    }\n",
       "</style>\n",
       "<table border=\"1\" class=\"dataframe\">\n",
       "  <thead>\n",
       "    <tr style=\"text-align: right;\">\n",
       "      <th></th>\n",
       "      <th>DayOfWeek</th>\n",
       "      <th>Cancelled</th>\n",
       "      <th>Diverted</th>\n",
       "    </tr>\n",
       "  </thead>\n",
       "  <tbody>\n",
       "    <tr>\n",
       "      <th>count</th>\n",
       "      <td>385675.0</td>\n",
       "      <td>385675.0</td>\n",
       "      <td>385675.0</td>\n",
       "    </tr>\n",
       "    <tr>\n",
       "      <th>mean</th>\n",
       "      <td>4.0</td>\n",
       "      <td>0.0</td>\n",
       "      <td>0.0</td>\n",
       "    </tr>\n",
       "    <tr>\n",
       "      <th>std</th>\n",
       "      <td>2.0</td>\n",
       "      <td>0.0</td>\n",
       "      <td>0.0</td>\n",
       "    </tr>\n",
       "    <tr>\n",
       "      <th>min</th>\n",
       "      <td>1.0</td>\n",
       "      <td>0.0</td>\n",
       "      <td>0.0</td>\n",
       "    </tr>\n",
       "    <tr>\n",
       "      <th>25%</th>\n",
       "      <td>2.0</td>\n",
       "      <td>0.0</td>\n",
       "      <td>0.0</td>\n",
       "    </tr>\n",
       "    <tr>\n",
       "      <th>50%</th>\n",
       "      <td>4.0</td>\n",
       "      <td>0.0</td>\n",
       "      <td>0.0</td>\n",
       "    </tr>\n",
       "    <tr>\n",
       "      <th>75%</th>\n",
       "      <td>6.0</td>\n",
       "      <td>0.0</td>\n",
       "      <td>0.0</td>\n",
       "    </tr>\n",
       "    <tr>\n",
       "      <th>max</th>\n",
       "      <td>7.0</td>\n",
       "      <td>0.0</td>\n",
       "      <td>0.0</td>\n",
       "    </tr>\n",
       "  </tbody>\n",
       "</table>\n",
       "</div>"
      ],
      "text/plain": [
       "       DayOfWeek  Cancelled  Diverted\n",
       "count   385675.0   385675.0  385675.0\n",
       "mean         4.0        0.0       0.0\n",
       "std          2.0        0.0       0.0\n",
       "min          1.0        0.0       0.0\n",
       "25%          2.0        0.0       0.0\n",
       "50%          4.0        0.0       0.0\n",
       "75%          6.0        0.0       0.0\n",
       "max          7.0        0.0       0.0"
      ]
     },
     "execution_count": 30,
     "metadata": {},
     "output_type": "execute_result"
    }
   ],
   "source": [
    "X_test[disc_features].describe().round(1)"
   ]
  },
  {
   "cell_type": "markdown",
   "id": "e5543e3f",
   "metadata": {},
   "source": [
    "Observamos como las columnas Cancelled y Diverted ahora solo tienen valores de 0. Los valores de 1 corresponden con los filas faltantes de 'ArrDelay'. Por ello, si en futuros modelos queremos incluir la informacion de dichas columnas se deberia hacer una imputacion a 'ArrDelay'"
   ]
  },
  {
   "cell_type": "markdown",
   "id": "ec39b27d",
   "metadata": {},
   "source": [
    "Por lo que respecta a 'DayOfWeek' observamos que se mantienen mean, std y median para ambos grupos de Train y Test"
   ]
  },
  {
   "cell_type": "markdown",
   "id": "2f4c5502",
   "metadata": {},
   "source": [
    "Evaluemos ahora la variable de interes y"
   ]
  },
  {
   "cell_type": "code",
   "execution_count": 31,
   "id": "b8148b8d",
   "metadata": {},
   "outputs": [
    {
     "data": {
      "text/plain": [
       "count    1542696.0\n",
       "mean          42.2\n",
       "std           56.8\n",
       "min         -109.0\n",
       "25%            9.0\n",
       "50%           24.0\n",
       "75%           56.0\n",
       "max         2461.0\n",
       "Name: ArrDelay, dtype: float64"
      ]
     },
     "execution_count": 31,
     "metadata": {},
     "output_type": "execute_result"
    }
   ],
   "source": [
    "y_train.describe().round(1)"
   ]
  },
  {
   "cell_type": "code",
   "execution_count": 32,
   "id": "b43ac337",
   "metadata": {},
   "outputs": [
    {
     "data": {
      "text/plain": [
       "count    385675.0\n",
       "mean         42.2\n",
       "std          56.9\n",
       "min         -70.0\n",
       "25%           9.0\n",
       "50%          24.0\n",
       "75%          56.0\n",
       "max        1583.0\n",
       "Name: ArrDelay, dtype: float64"
      ]
     },
     "execution_count": 32,
     "metadata": {},
     "output_type": "execute_result"
    }
   ],
   "source": [
    "y_test.describe().round(1)"
   ]
  },
  {
   "cell_type": "markdown",
   "id": "2182ddd5",
   "metadata": {},
   "source": [
    "Nuevamente observamos mean, std y median practicamente iguales y se observan diferencias en los valores extremos."
   ]
  },
  {
   "cell_type": "markdown",
   "id": "5e2103bb",
   "metadata": {},
   "source": [
    "## Ejercicio 2\n",
    "\n",
    "Aplicaremos el proceso de transformación: Standardization. \n",
    "\n",
    "Para cada caracteristica aplicamos **z=(x-u)/s** calculando u:mean; s:std en el grupo de TRAIN\n",
    "\n",
    "----------------------"
   ]
  },
  {
   "cell_type": "markdown",
   "id": "34b067fe",
   "metadata": {},
   "source": [
    "Renombramos la funcion a usar por conveniencia"
   ]
  },
  {
   "cell_type": "code",
   "execution_count": 33,
   "id": "89fe5f99",
   "metadata": {},
   "outputs": [],
   "source": [
    "scaler = preprocessing.StandardScaler()"
   ]
  },
  {
   "cell_type": "markdown",
   "id": "c783dd42",
   "metadata": {},
   "source": [
    "En la matriz de datos X no hemos incluido 'UniqueCarrier' variable categorica con 20 valores diferentes. Al tener tanto valores hacer un One-hot encoding de una variable categorica con mas de 15 valores diferentes es desaconsejable."
   ]
  },
  {
   "cell_type": "markdown",
   "id": "bbbce16e",
   "metadata": {},
   "source": [
    "Haremos la Standarizacion solo al conjunto de datos TRAIN. Lo haremos asi para evitar Data leakage en los datos de set. \n",
    "\n",
    "Posteriormente transformaremos los datos de SET de acuerdo a la tranformacion realizada al conjunto TRAIN."
   ]
  },
  {
   "cell_type": "code",
   "execution_count": 34,
   "id": "eb8c7372",
   "metadata": {},
   "outputs": [],
   "source": [
    "# Fit to TRAIN data. Then transform it.\n",
    "\n",
    "M_train_std = scaler.fit_transform(X_train)"
   ]
  },
  {
   "cell_type": "code",
   "execution_count": 35,
   "id": "bc20b62a",
   "metadata": {},
   "outputs": [
    {
     "data": {
      "text/plain": [
       "numpy.ndarray"
      ]
     },
     "execution_count": 35,
     "metadata": {},
     "output_type": "execute_result"
    }
   ],
   "source": [
    "type(M_train_std)"
   ]
  },
  {
   "cell_type": "code",
   "execution_count": 36,
   "id": "4f5bef05",
   "metadata": {},
   "outputs": [
    {
     "data": {
      "text/plain": [
       "sklearn.preprocessing._data.StandardScaler"
      ]
     },
     "execution_count": 36,
     "metadata": {},
     "output_type": "execute_result"
    }
   ],
   "source": [
    "type(scaler)"
   ]
  },
  {
   "cell_type": "code",
   "execution_count": 37,
   "id": "85c309bb",
   "metadata": {},
   "outputs": [
    {
     "data": {
      "text/plain": [
       "array([   3.98578333, 1518.90687537, 1467.85221068, 1610.29610695,\n",
       "       1634.53629166,  133.31390955,  134.20071161,  108.2819888 ,\n",
       "         43.08648431,  764.97250787,    0.        ,    0.        ])"
      ]
     },
     "execution_count": 37,
     "metadata": {},
     "output_type": "execute_result"
    }
   ],
   "source": [
    "scaler.mean_"
   ]
  },
  {
   "cell_type": "code",
   "execution_count": 38,
   "id": "035e8a9c",
   "metadata": {},
   "outputs": [
    {
     "data": {
      "text/plain": [
       "array([3.98474502e+00, 2.02797687e+05, 1.80346533e+05, 3.00391936e+05,\n",
       "       2.15681355e+05, 5.19208827e+03, 5.07289827e+03, 4.71118622e+03,\n",
       "       2.83365837e+03, 3.29271247e+05, 0.00000000e+00, 0.00000000e+00])"
      ]
     },
     "execution_count": 38,
     "metadata": {},
     "output_type": "execute_result"
    }
   ],
   "source": [
    "scaler.var_"
   ]
  },
  {
   "cell_type": "code",
   "execution_count": 39,
   "id": "8f685a30",
   "metadata": {},
   "outputs": [
    {
     "data": {
      "text/plain": [
       "array([[ 0.00712193,  1.1349286 ,  1.02937683, ..., -0.24567305,\n",
       "         0.        ,  0.        ],\n",
       "       [ 1.50999045,  1.31923762,  1.48855445, ..., -0.86781762,\n",
       "         0.        ,  0.        ],\n",
       "       [-0.49383424,  0.07348628,  0.165181  , ..., -0.15330985,\n",
       "         0.        ,  0.        ],\n",
       "       ...,\n",
       "       [-1.49574659,  0.9683843 ,  1.06469818, ..., -0.58549992,\n",
       "         0.        ,  0.        ],\n",
       "       [ 0.00712193, -0.45501429, -0.53418184, ...,  0.21440024,\n",
       "         0.        ,  0.        ],\n",
       "       [ 1.50999045,  1.51909078,  1.55919716, ..., -0.36766218,\n",
       "         0.        ,  0.        ]])"
      ]
     },
     "execution_count": 39,
     "metadata": {},
     "output_type": "execute_result"
    }
   ],
   "source": [
    "M_train_std"
   ]
  },
  {
   "cell_type": "code",
   "execution_count": 40,
   "id": "af1f0d5e",
   "metadata": {},
   "outputs": [
    {
     "data": {
      "text/plain": [
       "(1542696, 12)"
      ]
     },
     "execution_count": 40,
     "metadata": {},
     "output_type": "execute_result"
    }
   ],
   "source": [
    "M_train_std.shape"
   ]
  },
  {
   "cell_type": "code",
   "execution_count": 41,
   "id": "e1b79744",
   "metadata": {},
   "outputs": [],
   "source": [
    "X_train_std= pd.DataFrame(M_train_std, columns= feat_X )"
   ]
  },
  {
   "cell_type": "markdown",
   "id": "a503c144",
   "metadata": {},
   "source": [
    "Ahora aplicamos la transformacion calculada a partir de la datos de X_train en los datos de TEST X_test"
   ]
  },
  {
   "cell_type": "code",
   "execution_count": 42,
   "id": "d10aefae",
   "metadata": {},
   "outputs": [],
   "source": [
    "# Transform TEST data \n",
    "\n",
    "M_test_std = scaler.transform(X_test)"
   ]
  },
  {
   "cell_type": "code",
   "execution_count": 43,
   "id": "75e4785f",
   "metadata": {},
   "outputs": [],
   "source": [
    "X_test_std= pd.DataFrame(M_test_std, columns= feat_X )"
   ]
  },
  {
   "cell_type": "markdown",
   "id": "9dd62603",
   "metadata": {},
   "source": [
    "## Ejercicio 3\n",
    "\n",
    "Resume las nuevas columnas de manera estadistica y grafica.\n",
    "\n",
    "--------------------------------------"
   ]
  },
  {
   "cell_type": "code",
   "execution_count": 44,
   "id": "d1dbb400",
   "metadata": {},
   "outputs": [
    {
     "data": {
      "text/html": [
       "<div>\n",
       "<style scoped>\n",
       "    .dataframe tbody tr th:only-of-type {\n",
       "        vertical-align: middle;\n",
       "    }\n",
       "\n",
       "    .dataframe tbody tr th {\n",
       "        vertical-align: top;\n",
       "    }\n",
       "\n",
       "    .dataframe thead th {\n",
       "        text-align: right;\n",
       "    }\n",
       "</style>\n",
       "<table border=\"1\" class=\"dataframe\">\n",
       "  <thead>\n",
       "    <tr style=\"text-align: right;\">\n",
       "      <th></th>\n",
       "      <th>DayOfWeek</th>\n",
       "      <th>DepTime</th>\n",
       "      <th>CRSDepTime</th>\n",
       "      <th>ArrTime</th>\n",
       "      <th>CRSArrTime</th>\n",
       "      <th>ActualElapsedTime</th>\n",
       "      <th>CRSElapsedTime</th>\n",
       "      <th>AirTime</th>\n",
       "      <th>DepDelay</th>\n",
       "      <th>Distance</th>\n",
       "      <th>Cancelled</th>\n",
       "      <th>Diverted</th>\n",
       "    </tr>\n",
       "  </thead>\n",
       "  <tbody>\n",
       "    <tr>\n",
       "      <th>count</th>\n",
       "      <td>1542696.000</td>\n",
       "      <td>1542696.000</td>\n",
       "      <td>1542696.000</td>\n",
       "      <td>1542696.000</td>\n",
       "      <td>1542696.000</td>\n",
       "      <td>1542696.000</td>\n",
       "      <td>1542696.000</td>\n",
       "      <td>1542696.000</td>\n",
       "      <td>1542696.000</td>\n",
       "      <td>1542696.000</td>\n",
       "      <td>1542696.0</td>\n",
       "      <td>1542696.0</td>\n",
       "    </tr>\n",
       "    <tr>\n",
       "      <th>mean</th>\n",
       "      <td>-0.000</td>\n",
       "      <td>-0.000</td>\n",
       "      <td>0.000</td>\n",
       "      <td>-0.000</td>\n",
       "      <td>-0.000</td>\n",
       "      <td>0.000</td>\n",
       "      <td>-0.000</td>\n",
       "      <td>0.000</td>\n",
       "      <td>-0.000</td>\n",
       "      <td>-0.000</td>\n",
       "      <td>0.0</td>\n",
       "      <td>0.0</td>\n",
       "    </tr>\n",
       "    <tr>\n",
       "      <th>std</th>\n",
       "      <td>1.000</td>\n",
       "      <td>1.000</td>\n",
       "      <td>1.000</td>\n",
       "      <td>1.000</td>\n",
       "      <td>1.000</td>\n",
       "      <td>1.000</td>\n",
       "      <td>1.000</td>\n",
       "      <td>1.000</td>\n",
       "      <td>1.000</td>\n",
       "      <td>1.000</td>\n",
       "      <td>0.0</td>\n",
       "      <td>0.0</td>\n",
       "    </tr>\n",
       "    <tr>\n",
       "      <th>min</th>\n",
       "      <td>-1.496</td>\n",
       "      <td>-3.371</td>\n",
       "      <td>-3.456</td>\n",
       "      <td>-2.936</td>\n",
       "      <td>-3.520</td>\n",
       "      <td>-1.656</td>\n",
       "      <td>-1.772</td>\n",
       "      <td>-1.578</td>\n",
       "      <td>-0.697</td>\n",
       "      <td>-1.314</td>\n",
       "      <td>0.0</td>\n",
       "      <td>0.0</td>\n",
       "    </tr>\n",
       "    <tr>\n",
       "      <th>25%</th>\n",
       "      <td>-0.995</td>\n",
       "      <td>-0.701</td>\n",
       "      <td>-0.784</td>\n",
       "      <td>-0.537</td>\n",
       "      <td>-0.667</td>\n",
       "      <td>-0.740</td>\n",
       "      <td>-0.733</td>\n",
       "      <td>-0.733</td>\n",
       "      <td>-0.584</td>\n",
       "      <td>-0.744</td>\n",
       "      <td>0.0</td>\n",
       "      <td>0.0</td>\n",
       "    </tr>\n",
       "    <tr>\n",
       "      <th>50%</th>\n",
       "      <td>0.007</td>\n",
       "      <td>0.058</td>\n",
       "      <td>0.099</td>\n",
       "      <td>0.191</td>\n",
       "      <td>0.154</td>\n",
       "      <td>-0.240</td>\n",
       "      <td>-0.256</td>\n",
       "      <td>-0.266</td>\n",
       "      <td>-0.359</td>\n",
       "      <td>-0.277</td>\n",
       "      <td>0.0</td>\n",
       "      <td>0.0</td>\n",
       "    </tr>\n",
       "    <tr>\n",
       "      <th>75%</th>\n",
       "      <td>1.009</td>\n",
       "      <td>0.846</td>\n",
       "      <td>0.817</td>\n",
       "      <td>0.766</td>\n",
       "      <td>0.819</td>\n",
       "      <td>0.440</td>\n",
       "      <td>0.432</td>\n",
       "      <td>0.418</td>\n",
       "      <td>0.186</td>\n",
       "      <td>0.404</td>\n",
       "      <td>0.0</td>\n",
       "      <td>0.0</td>\n",
       "    </tr>\n",
       "    <tr>\n",
       "      <th>max</th>\n",
       "      <td>1.510</td>\n",
       "      <td>1.957</td>\n",
       "      <td>2.098</td>\n",
       "      <td>1.441</td>\n",
       "      <td>1.560</td>\n",
       "      <td>13.610</td>\n",
       "      <td>7.382</td>\n",
       "      <td>14.317</td>\n",
       "      <td>45.535</td>\n",
       "      <td>7.314</td>\n",
       "      <td>0.0</td>\n",
       "      <td>0.0</td>\n",
       "    </tr>\n",
       "  </tbody>\n",
       "</table>\n",
       "</div>"
      ],
      "text/plain": [
       "         DayOfWeek      DepTime   CRSDepTime      ArrTime   CRSArrTime  \\\n",
       "count  1542696.000  1542696.000  1542696.000  1542696.000  1542696.000   \n",
       "mean        -0.000       -0.000        0.000       -0.000       -0.000   \n",
       "std          1.000        1.000        1.000        1.000        1.000   \n",
       "min         -1.496       -3.371       -3.456       -2.936       -3.520   \n",
       "25%         -0.995       -0.701       -0.784       -0.537       -0.667   \n",
       "50%          0.007        0.058        0.099        0.191        0.154   \n",
       "75%          1.009        0.846        0.817        0.766        0.819   \n",
       "max          1.510        1.957        2.098        1.441        1.560   \n",
       "\n",
       "       ActualElapsedTime  CRSElapsedTime      AirTime     DepDelay  \\\n",
       "count        1542696.000     1542696.000  1542696.000  1542696.000   \n",
       "mean               0.000          -0.000        0.000       -0.000   \n",
       "std                1.000           1.000        1.000        1.000   \n",
       "min               -1.656          -1.772       -1.578       -0.697   \n",
       "25%               -0.740          -0.733       -0.733       -0.584   \n",
       "50%               -0.240          -0.256       -0.266       -0.359   \n",
       "75%                0.440           0.432        0.418        0.186   \n",
       "max               13.610           7.382       14.317       45.535   \n",
       "\n",
       "          Distance  Cancelled   Diverted  \n",
       "count  1542696.000  1542696.0  1542696.0  \n",
       "mean        -0.000        0.0        0.0  \n",
       "std          1.000        0.0        0.0  \n",
       "min         -1.314        0.0        0.0  \n",
       "25%         -0.744        0.0        0.0  \n",
       "50%         -0.277        0.0        0.0  \n",
       "75%          0.404        0.0        0.0  \n",
       "max          7.314        0.0        0.0  "
      ]
     },
     "execution_count": 44,
     "metadata": {},
     "output_type": "execute_result"
    }
   ],
   "source": [
    "X_train_std.describe().round(3)"
   ]
  },
  {
   "cell_type": "code",
   "execution_count": 45,
   "id": "0df45d9a",
   "metadata": {},
   "outputs": [
    {
     "data": {
      "text/html": [
       "<div>\n",
       "<style scoped>\n",
       "    .dataframe tbody tr th:only-of-type {\n",
       "        vertical-align: middle;\n",
       "    }\n",
       "\n",
       "    .dataframe tbody tr th {\n",
       "        vertical-align: top;\n",
       "    }\n",
       "\n",
       "    .dataframe thead th {\n",
       "        text-align: right;\n",
       "    }\n",
       "</style>\n",
       "<table border=\"1\" class=\"dataframe\">\n",
       "  <thead>\n",
       "    <tr style=\"text-align: right;\">\n",
       "      <th></th>\n",
       "      <th>DayOfWeek</th>\n",
       "      <th>DepTime</th>\n",
       "      <th>CRSDepTime</th>\n",
       "      <th>ArrTime</th>\n",
       "      <th>CRSArrTime</th>\n",
       "      <th>ActualElapsedTime</th>\n",
       "      <th>CRSElapsedTime</th>\n",
       "      <th>AirTime</th>\n",
       "      <th>DepDelay</th>\n",
       "      <th>Distance</th>\n",
       "      <th>Cancelled</th>\n",
       "      <th>Diverted</th>\n",
       "    </tr>\n",
       "  </thead>\n",
       "  <tbody>\n",
       "    <tr>\n",
       "      <th>count</th>\n",
       "      <td>385675.000</td>\n",
       "      <td>385675.000</td>\n",
       "      <td>385675.000</td>\n",
       "      <td>385675.000</td>\n",
       "      <td>385675.000</td>\n",
       "      <td>385675.000</td>\n",
       "      <td>385675.000</td>\n",
       "      <td>385675.000</td>\n",
       "      <td>385675.000</td>\n",
       "      <td>385675.000</td>\n",
       "      <td>385675.0</td>\n",
       "      <td>385675.0</td>\n",
       "    </tr>\n",
       "    <tr>\n",
       "      <th>mean</th>\n",
       "      <td>-0.002</td>\n",
       "      <td>-0.003</td>\n",
       "      <td>-0.002</td>\n",
       "      <td>-0.000</td>\n",
       "      <td>-0.004</td>\n",
       "      <td>-0.001</td>\n",
       "      <td>-0.000</td>\n",
       "      <td>-0.000</td>\n",
       "      <td>0.000</td>\n",
       "      <td>-0.000</td>\n",
       "      <td>0.0</td>\n",
       "      <td>0.0</td>\n",
       "    </tr>\n",
       "    <tr>\n",
       "      <th>std</th>\n",
       "      <td>1.000</td>\n",
       "      <td>1.001</td>\n",
       "      <td>1.001</td>\n",
       "      <td>0.999</td>\n",
       "      <td>1.002</td>\n",
       "      <td>1.000</td>\n",
       "      <td>1.001</td>\n",
       "      <td>1.000</td>\n",
       "      <td>1.003</td>\n",
       "      <td>1.001</td>\n",
       "      <td>0.0</td>\n",
       "      <td>0.0</td>\n",
       "    </tr>\n",
       "    <tr>\n",
       "      <th>min</th>\n",
       "      <td>-1.496</td>\n",
       "      <td>-3.371</td>\n",
       "      <td>-3.456</td>\n",
       "      <td>-2.936</td>\n",
       "      <td>-3.520</td>\n",
       "      <td>-1.642</td>\n",
       "      <td>-2.179</td>\n",
       "      <td>-1.563</td>\n",
       "      <td>-0.697</td>\n",
       "      <td>-1.291</td>\n",
       "      <td>0.0</td>\n",
       "      <td>0.0</td>\n",
       "    </tr>\n",
       "    <tr>\n",
       "      <th>25%</th>\n",
       "      <td>-0.995</td>\n",
       "      <td>-0.704</td>\n",
       "      <td>-0.784</td>\n",
       "      <td>-0.539</td>\n",
       "      <td>-0.667</td>\n",
       "      <td>-0.740</td>\n",
       "      <td>-0.747</td>\n",
       "      <td>-0.733</td>\n",
       "      <td>-0.584</td>\n",
       "      <td>-0.744</td>\n",
       "      <td>0.0</td>\n",
       "      <td>0.0</td>\n",
       "    </tr>\n",
       "    <tr>\n",
       "      <th>50%</th>\n",
       "      <td>0.007</td>\n",
       "      <td>0.058</td>\n",
       "      <td>0.099</td>\n",
       "      <td>0.191</td>\n",
       "      <td>0.152</td>\n",
       "      <td>-0.240</td>\n",
       "      <td>-0.256</td>\n",
       "      <td>-0.266</td>\n",
       "      <td>-0.359</td>\n",
       "      <td>-0.277</td>\n",
       "      <td>0.0</td>\n",
       "      <td>0.0</td>\n",
       "    </tr>\n",
       "    <tr>\n",
       "      <th>75%</th>\n",
       "      <td>1.009</td>\n",
       "      <td>0.846</td>\n",
       "      <td>0.817</td>\n",
       "      <td>0.768</td>\n",
       "      <td>0.817</td>\n",
       "      <td>0.440</td>\n",
       "      <td>0.432</td>\n",
       "      <td>0.418</td>\n",
       "      <td>0.186</td>\n",
       "      <td>0.404</td>\n",
       "      <td>0.0</td>\n",
       "      <td>0.0</td>\n",
       "    </tr>\n",
       "    <tr>\n",
       "      <th>max</th>\n",
       "      <td>1.510</td>\n",
       "      <td>1.957</td>\n",
       "      <td>2.098</td>\n",
       "      <td>1.441</td>\n",
       "      <td>1.560</td>\n",
       "      <td>9.114</td>\n",
       "      <td>7.382</td>\n",
       "      <td>7.907</td>\n",
       "      <td>28.346</td>\n",
       "      <td>7.314</td>\n",
       "      <td>0.0</td>\n",
       "      <td>0.0</td>\n",
       "    </tr>\n",
       "  </tbody>\n",
       "</table>\n",
       "</div>"
      ],
      "text/plain": [
       "        DayOfWeek     DepTime  CRSDepTime     ArrTime  CRSArrTime  \\\n",
       "count  385675.000  385675.000  385675.000  385675.000  385675.000   \n",
       "mean       -0.002      -0.003      -0.002      -0.000      -0.004   \n",
       "std         1.000       1.001       1.001       0.999       1.002   \n",
       "min        -1.496      -3.371      -3.456      -2.936      -3.520   \n",
       "25%        -0.995      -0.704      -0.784      -0.539      -0.667   \n",
       "50%         0.007       0.058       0.099       0.191       0.152   \n",
       "75%         1.009       0.846       0.817       0.768       0.817   \n",
       "max         1.510       1.957       2.098       1.441       1.560   \n",
       "\n",
       "       ActualElapsedTime  CRSElapsedTime     AirTime    DepDelay    Distance  \\\n",
       "count         385675.000      385675.000  385675.000  385675.000  385675.000   \n",
       "mean              -0.001          -0.000      -0.000       0.000      -0.000   \n",
       "std                1.000           1.001       1.000       1.003       1.001   \n",
       "min               -1.642          -2.179      -1.563      -0.697      -1.291   \n",
       "25%               -0.740          -0.747      -0.733      -0.584      -0.744   \n",
       "50%               -0.240          -0.256      -0.266      -0.359      -0.277   \n",
       "75%                0.440           0.432       0.418       0.186       0.404   \n",
       "max                9.114           7.382       7.907      28.346       7.314   \n",
       "\n",
       "       Cancelled  Diverted  \n",
       "count   385675.0  385675.0  \n",
       "mean         0.0       0.0  \n",
       "std          0.0       0.0  \n",
       "min          0.0       0.0  \n",
       "25%          0.0       0.0  \n",
       "50%          0.0       0.0  \n",
       "75%          0.0       0.0  \n",
       "max          0.0       0.0  "
      ]
     },
     "execution_count": 45,
     "metadata": {},
     "output_type": "execute_result"
    }
   ],
   "source": [
    "X_test_std.describe().round(3)"
   ]
  },
  {
   "cell_type": "markdown",
   "id": "751fc832",
   "metadata": {},
   "source": [
    "Observamos como en los datos de TRAIN mean=0 y std=1, que era el objetivo de la standarizacion. En los datos de test son practicamente 0 y 1 respectivamente. Ademas los valores de mediana tambien son practicamente iguales en ambos grupos como pasaba antes de la standarizacion. \n",
    "\n",
    "Tambien se aprecian las diferencias observadas en los valores minimos de 'CRSElapsedTime' y 'Distance' y los valores maximos de 'AirTime' y 'DeepDelay'"
   ]
  },
  {
   "cell_type": "markdown",
   "id": "4c859b75",
   "metadata": {},
   "source": [
    "Tambien existe la funcion sklearn.preprocessing.RobustScaler() que teoricamente es mas robusta frente la existencia de outliers"
   ]
  },
  {
   "cell_type": "markdown",
   "id": "10ba837c",
   "metadata": {},
   "source": [
    "RobustScaler resta la mediana y divide por el valor IQR.  Los outliers pueden sesgar el valor medio y la varianza, sin embargo la mediana y el IQR son mas robustos a los outliers."
   ]
  },
  {
   "cell_type": "code",
   "execution_count": 46,
   "id": "fcde8854",
   "metadata": {},
   "outputs": [
    {
     "name": "stdout",
     "output_type": "stream",
     "text": [
      "['DepTime', 'CRSDepTime', 'ArrTime', 'CRSArrTime', 'ActualElapsedTime', 'CRSElapsedTime', 'AirTime', 'DepDelay', 'Distance']\n"
     ]
    }
   ],
   "source": [
    "print(cont_features)"
   ]
  },
  {
   "cell_type": "markdown",
   "id": "1446224c",
   "metadata": {},
   "source": [
    "En los siguientes graficos se puede observar como la transformacion mantiene la forma del histograma. También observamos como la mediana, el rango IQR y los outliers se mantienen pero escalados a otros valores."
   ]
  },
  {
   "cell_type": "code",
   "execution_count": 47,
   "id": "0f167abd",
   "metadata": {},
   "outputs": [
    {
     "data": {
      "image/png": "[encoded data removed]",
      "text/plain": [
       "<Figure size 864x576 with 4 Axes>"
      ]
     },
     "metadata": {
      "needs_background": "light"
     },
     "output_type": "display_data"
    }
   ],
   "source": [
    "#Axes-level functions make self-contained plots\n",
    "\n",
    "f, axs = plt.subplots(2, 2, figsize=(12, 8), gridspec_kw=dict(width_ratios=[4, 4], height_ratios=[5, 3]))\n",
    "plt.subplot(2,2,1)\n",
    "sns.histplot(data=X_train, x='DepTime')\n",
    "plt.subplot(2,2,2)\n",
    "sns.histplot(data=X_train_std, x='DepTime')\n",
    "plt.subplot(2,2,3)\n",
    "sns.boxplot(data=X_train, x='DepTime', color='lightblue', fliersize=5, linewidth=1 , width=0.3)\n",
    "plt.subplot(2,2,4)\n",
    "sns.boxplot(data=X_train_std, x='DepTime', color='lightblue', fliersize=5, linewidth=1 , width=0.3)\n",
    "f.tight_layout()"
   ]
  },
  {
   "cell_type": "code",
   "execution_count": 48,
   "id": "eb8add5c",
   "metadata": {},
   "outputs": [
    {
     "data": {
      "image/png": "[encoded data removed]",
      "text/plain": [
       "<Figure size 864x576 with 4 Axes>"
      ]
     },
     "metadata": {
      "needs_background": "light"
     },
     "output_type": "display_data"
    }
   ],
   "source": [
    "f, axs = plt.subplots(2, 2, figsize=(12, 8), gridspec_kw=dict(width_ratios=[4, 4], height_ratios=[5, 3]))\n",
    "plt.subplot(2,2,1)\n",
    "sns.histplot(data=X_train, x='CRSDepTime')\n",
    "plt.subplot(2,2,2)\n",
    "sns.histplot(data=X_train_std, x='CRSDepTime')\n",
    "plt.subplot(2,2,3)\n",
    "sns.boxplot(data=X_train, x='CRSDepTime', color='lightblue', fliersize=5, linewidth=1 , width=0.3)\n",
    "plt.subplot(2,2,4)\n",
    "sns.boxplot(data=X_train_std, x='CRSDepTime', color='lightblue', fliersize=5, linewidth=1 , width=0.3)\n",
    "f.tight_layout()"
   ]
  },
  {
   "cell_type": "code",
   "execution_count": 49,
   "id": "03276401",
   "metadata": {},
   "outputs": [
    {
     "data": {
      "image/png": "[encoded data removed]",
      "text/plain": [
       "<Figure size 864x576 with 4 Axes>"
      ]
     },
     "metadata": {
      "needs_background": "light"
     },
     "output_type": "display_data"
    }
   ],
   "source": [
    "f, axs = plt.subplots(2, 2, figsize=(12, 8), gridspec_kw=dict(width_ratios=[4, 4], height_ratios=[5, 3]))\n",
    "plt.subplot(2,2,1)\n",
    "sns.histplot(data=X_train, x='ArrTime')\n",
    "plt.subplot(2,2,2)\n",
    "sns.histplot(data=X_train_std, x='ArrTime')\n",
    "plt.subplot(2,2,3)\n",
    "sns.boxplot(data=X_train, x='ArrTime', color='lightblue', fliersize=5, linewidth=1 , width=0.3)\n",
    "plt.subplot(2,2,4)\n",
    "sns.boxplot(data=X_train_std, x='ArrTime', color='lightblue', fliersize=5, linewidth=1 , width=0.3)\n",
    "f.tight_layout()"
   ]
  },
  {
   "cell_type": "code",
   "execution_count": 50,
   "id": "e8aa1185",
   "metadata": {},
   "outputs": [
    {
     "data": {
      "image/png": "[encoded data removed]",
      "text/plain": [
       "<Figure size 864x576 with 4 Axes>"
      ]
     },
     "metadata": {
      "needs_background": "light"
     },
     "output_type": "display_data"
    }
   ],
   "source": [
    "f, axs = plt.subplots(2, 2, figsize=(12, 8), gridspec_kw=dict(width_ratios=[4, 4], height_ratios=[5, 3]))\n",
    "plt.subplot(2,2,1)\n",
    "sns.histplot(data=X_train, x='CRSArrTime')\n",
    "plt.subplot(2,2,2)\n",
    "sns.histplot(data=X_train_std, x='CRSArrTime')\n",
    "plt.subplot(2,2,3)\n",
    "sns.boxplot(data=X_train, x='CRSArrTime', color='lightblue', fliersize=5, linewidth=1 , width=0.3)\n",
    "plt.subplot(2,2,4)\n",
    "sns.boxplot(data=X_train_std, x='CRSArrTime', color='lightblue', fliersize=5, linewidth=1 , width=0.3)\n",
    "f.tight_layout()"
   ]
  },
  {
   "cell_type": "code",
   "execution_count": 51,
   "id": "a88611aa",
   "metadata": {},
   "outputs": [
    {
     "data": {
      "image/png": "[encoded data removed]",
      "text/plain": [
       "<Figure size 864x576 with 4 Axes>"
      ]
     },
     "metadata": {
      "needs_background": "light"
     },
     "output_type": "display_data"
    }
   ],
   "source": [
    "f, axs = plt.subplots(2, 2, figsize=(12, 8), gridspec_kw=dict(width_ratios=[4, 4], height_ratios=[5, 3]))\n",
    "plt.subplot(2,2,1)\n",
    "sns.histplot(data=X_train, x='ActualElapsedTime')\n",
    "plt.subplot(2,2,2)\n",
    "sns.histplot(data=X_train_std, x='ActualElapsedTime')\n",
    "plt.subplot(2,2,3)\n",
    "sns.boxplot(data=X_train, x='ActualElapsedTime', color='lightblue', fliersize=5, linewidth=1 , width=0.3)\n",
    "plt.subplot(2,2,4)\n",
    "sns.boxplot(data=X_train_std, x='ActualElapsedTime', color='lightblue', fliersize=5, linewidth=1 , width=0.3)\n",
    "f.tight_layout()"
   ]
  },
  {
   "cell_type": "code",
   "execution_count": 52,
   "id": "42330f25",
   "metadata": {},
   "outputs": [
    {
     "data": {
      "image/png": "[encoded data removed]",
      "text/plain": [
       "<Figure size 864x576 with 4 Axes>"
      ]
     },
     "metadata": {
      "needs_background": "light"
     },
     "output_type": "display_data"
    }
   ],
   "source": [
    "f, axs = plt.subplots(2, 2, figsize=(12, 8), gridspec_kw=dict(width_ratios=[4, 4], height_ratios=[5, 3]))\n",
    "plt.subplot(2,2,1)\n",
    "sns.histplot(data=X_train, x='CRSElapsedTime')\n",
    "plt.subplot(2,2,2)\n",
    "sns.histplot(data=X_train_std, x='CRSElapsedTime')\n",
    "plt.subplot(2,2,3)\n",
    "sns.boxplot(data=X_train, x='CRSElapsedTime', color='lightblue', fliersize=5, linewidth=1 , width=0.3)\n",
    "plt.subplot(2,2,4)\n",
    "sns.boxplot(data=X_train_std, x='CRSElapsedTime', color='lightblue', fliersize=5, linewidth=1 , width=0.3)\n",
    "f.tight_layout()"
   ]
  },
  {
   "cell_type": "code",
   "execution_count": 53,
   "id": "86ea294a",
   "metadata": {},
   "outputs": [
    {
     "data": {
      "image/png": "[encoded data removed]",
      "text/plain": [
       "<Figure size 864x576 with 4 Axes>"
      ]
     },
     "metadata": {
      "needs_background": "light"
     },
     "output_type": "display_data"
    }
   ],
   "source": [
    "f, axs = plt.subplots(2, 2, figsize=(12, 8), gridspec_kw=dict(width_ratios=[4, 4], height_ratios=[5, 3]))\n",
    "plt.subplot(2,2,1)\n",
    "sns.histplot(data=X_train, x='AirTime')\n",
    "plt.subplot(2,2,2)\n",
    "sns.histplot(data=X_train_std, x='AirTime')\n",
    "plt.subplot(2,2,3)\n",
    "sns.boxplot(data=X_train, x='AirTime', color='lightblue', fliersize=5, linewidth=1 , width=0.3)\n",
    "plt.subplot(2,2,4)\n",
    "sns.boxplot(data=X_train_std, x='AirTime', color='lightblue', fliersize=5, linewidth=1 , width=0.3)\n",
    "f.tight_layout()"
   ]
  },
  {
   "cell_type": "code",
   "execution_count": 54,
   "id": "cb8edc90",
   "metadata": {},
   "outputs": [
    {
     "data": {
      "image/png": "[encoded data removed]",
      "text/plain": [
       "<Figure size 864x576 with 4 Axes>"
      ]
     },
     "metadata": {
      "needs_background": "light"
     },
     "output_type": "display_data"
    }
   ],
   "source": [
    "f, axs = plt.subplots(2, 2, figsize=(12, 8), gridspec_kw=dict(width_ratios=[4, 4], height_ratios=[5, 3]))\n",
    "plt.subplot(2,2,1)\n",
    "sns.histplot(data=X_train, x='DepDelay')\n",
    "plt.subplot(2,2,2)\n",
    "sns.histplot(data=X_train_std, x='DepDelay')\n",
    "plt.subplot(2,2,3)\n",
    "sns.boxplot(data=X_train, x='DepDelay', color='lightblue', fliersize=5, linewidth=1 , width=0.3)\n",
    "plt.subplot(2,2,4)\n",
    "sns.boxplot(data=X_train_std, x='DepDelay', color='lightblue', fliersize=5, linewidth=1 , width=0.3)\n",
    "f.tight_layout()"
   ]
  },
  {
   "cell_type": "code",
   "execution_count": 55,
   "id": "bcb7a867",
   "metadata": {},
   "outputs": [
    {
     "data": {
      "image/png": "[encoded data removed]",
      "text/plain": [
       "<Figure size 864x576 with 4 Axes>"
      ]
     },
     "metadata": {
      "needs_background": "light"
     },
     "output_type": "display_data"
    }
   ],
   "source": [
    "f, axs = plt.subplots(2, 2, figsize=(12, 8), gridspec_kw=dict(width_ratios=[4, 4], height_ratios=[5, 3]))\n",
    "plt.subplot(2,2,1)\n",
    "sns.histplot(data=X_train, x='Distance')\n",
    "plt.subplot(2,2,2)\n",
    "sns.histplot(data=X_train_std, x='Distance')\n",
    "plt.subplot(2,2,3)\n",
    "sns.boxplot(data=X_train, x='Distance', color='lightblue', fliersize=5, linewidth=1 , width=0.3)\n",
    "plt.subplot(2,2,4)\n",
    "sns.boxplot(data=X_train_std, x='Distance', color='lightblue', fliersize=5, linewidth=1 , width=0.3)\n",
    "f.tight_layout()"
   ]
  },
  {
   "cell_type": "markdown",
   "id": "368c6603",
   "metadata": {},
   "source": [
    "Para la variable categorica integrada en la base de datos con enteros 'DayOfWeek', tambien observamos como se mantiene la forma del histograma y el IQR "
   ]
  },
  {
   "cell_type": "code",
   "execution_count": 56,
   "id": "7981d8e3",
   "metadata": {},
   "outputs": [
    {
     "data": {
      "image/png": "[encoded data removed]",
      "text/plain": [
       "<Figure size 864x576 with 4 Axes>"
      ]
     },
     "metadata": {
      "needs_background": "light"
     },
     "output_type": "display_data"
    }
   ],
   "source": [
    "f, axs = plt.subplots(2, 2, figsize=(12, 8), gridspec_kw=dict(width_ratios=[4, 4], height_ratios=[5, 3]))\n",
    "plt.subplot(2,2,1)\n",
    "sns.histplot(data=X_train, x='DayOfWeek')\n",
    "plt.subplot(2,2,2)\n",
    "sns.histplot(data=X_train_std, x='DayOfWeek')\n",
    "plt.subplot(2,2,3)\n",
    "sns.boxplot(data=X_train, x='DayOfWeek', color='lightblue', fliersize=5, linewidth=1 , width=0.3)\n",
    "plt.subplot(2,2,4)\n",
    "sns.boxplot(data=X_train_std, x='DayOfWeek', color='lightblue', fliersize=5, linewidth=1 , width=0.3)\n",
    "f.tight_layout()"
   ]
  },
  {
   "cell_type": "code",
   "execution_count": null,
   "id": "a2903a11",
   "metadata": {},
   "outputs": [],
   "source": []
  }
 ],
 "metadata": {
  "kernelspec": {
   "display_name": "Python 3 (ipykernel)",
   "language": "python",
   "name": "python3"
  },
  "language_info": {
   "codemirror_mode": {
    "name": "ipython",
    "version": 3
   },
   "file_extension": ".py",
   "mimetype": "text/x-python",
   "name": "python",
   "nbconvert_exporter": "python",
   "pygments_lexer": "ipython3",
   "version": "3.8.10"
  }
 },
 "nbformat": 4,
 "nbformat_minor": 5
}
